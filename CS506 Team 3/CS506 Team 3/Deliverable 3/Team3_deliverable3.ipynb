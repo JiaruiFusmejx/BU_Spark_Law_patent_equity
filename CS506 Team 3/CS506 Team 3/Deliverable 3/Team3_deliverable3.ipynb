{
 "cells": [
  {
   "cell_type": "code",
   "execution_count": 1,
   "metadata": {},
   "outputs": [],
   "source": [
    "import pandas as pd\n",
    "import matplotlib.pyplot as plt\n",
    "import seaborn as sns"
   ]
  },
  {
   "cell_type": "markdown",
   "metadata": {},
   "source": [
    "# Deliverable 3 for Team 3\n",
    "\n",
    "### Third Batch of Data\n",
    "\n",
    "On top of deliverable 2's data, we scraped the year information for articles and proceedings from MIT collaboration's website. We also scraped the year for when each professor started working at MIT. \n",
    "\n",
    "### Refined Preliminary Analysis\n",
    "\n",
    "Since in this deliverable we acquired new data for articles, proceeding and work year, we only updated and included the preliminary analysis for these new data in the next few sections."
   ]
  },
  {
   "cell_type": "markdown",
   "metadata": {},
   "source": [
    "### Preprocessing Step\n",
    "\n",
    "Here we remove USPTO numbers for patent applications (has the format of nn/nnnnnn or 11-12 digits) or in the wrong format"
   ]
  },
  {
   "cell_type": "code",
   "execution_count": 2,
   "metadata": {},
   "outputs": [
    {
     "name": "stdout",
     "output_type": "stream",
     "text": [
      "Before processing:  (5957, 3)\n",
      "After processing:  (4467, 5)\n"
     ]
    }
   ],
   "source": [
    "#df = pd.read_csv('D:\\CS\\cs506\\project/patents_date.csv')\n",
    "df = pd.read_csv('patents_date.csv')\n",
    "\n",
    "print('Before processing: ', df.shape)\n",
    "df_patents = df[~df['USPTO'].str.contains('/')].reset_index()\n",
    "df_patents['Len_USPTO'] = df_patents['USPTO'].astype(str).apply(len)\n",
    "df_patents = df_patents[(df_patents['Len_USPTO'] > 6) & (df_patents['Len_USPTO'] < 9)]\n",
    "print('After processing: ', df_patents.shape)\n"
   ]
  },
  {
   "cell_type": "markdown",
   "metadata": {},
   "source": [
    "Currently we are only able to acquire filing dates for ~3000 USPTO numbers from USPTO's database and hence eliminate those not yet found from our analysis."
   ]
  },
  {
   "cell_type": "code",
   "execution_count": 3,
   "metadata": {},
   "outputs": [
    {
     "name": "stdout",
     "output_type": "stream",
     "text": [
      "After eliminating nan values:  (3779, 7)\n",
      "Number of unique patents in final selection:  3013\n",
      "A sample of df_patents_nonan\n",
      "   level_0  index     USPTO  Author_Id Filing_Date  Len_USPTO  Year\n",
      "0        0      0   9741253       1485  2015-10-09          7  2015\n",
      "1        1      2  10917173       4030  2019-09-24          8  2019\n",
      "2        2      3  10899479       4030  2018-06-11          8  2018\n",
      "3        3      4  10826609       4030  2019-06-20          8  2019\n",
      "4        4      5  10530478       4030  2017-11-06          8  2017\n"
     ]
    }
   ],
   "source": [
    "df_patents_nonan = df_patents.dropna().reset_index()\n",
    "df_patents_nonan['Year'] = pd.to_datetime(df_patents_nonan['Filing_Date']).dt.year\n",
    "print('After eliminating nan values: ', df_patents_nonan.shape)\n",
    "print('Number of unique patents in final selection: ', len(pd.unique(df_patents_nonan['USPTO'])))\n",
    "print(\"A sample of df_patents_nonan\")\n",
    "print(df_patents_nonan.head())"
   ]
  },
  {
   "cell_type": "code",
   "execution_count": 4,
   "metadata": {},
   "outputs": [
    {
     "name": "stdout",
     "output_type": "stream",
     "text": [
      "A sample of df_articles\n",
      "                                               Title  Author_Id  Year  \\\n",
      "0  Robust Control of Arrivals Into a Queuing Network       1485  2021   \n",
      "1   Control and Optimization of Air Traffic Networks       1485  2021   \n",
      "2  Efficiency and Fairness in Unmanned Air Traffi...       1485  2021   \n",
      "3  Comparative Analysis of Departure Metering at ...       1485  2020   \n",
      "4  Sign-stability of Positive Markov Jump Linear ...       1485  2020   \n",
      "\n",
      "   Citation_Count  \n",
      "0               0  \n",
      "1               0  \n",
      "2               0  \n",
      "3               0  \n",
      "4               1  \n"
     ]
    }
   ],
   "source": [
    "df_articles = pd.read_csv('articles.csv')\n",
    "print(\"A sample of df_articles\")\n",
    "print(df_articles.head())"
   ]
  },
  {
   "cell_type": "code",
   "execution_count": 5,
   "metadata": {},
   "outputs": [
    {
     "name": "stdout",
     "output_type": "stream",
     "text": [
      "A sample of df_proceedings\n",
      "                                               Title  Author_Id  Year  \\\n",
      "0   Approximate Projection-Based Control of Networks       1485  2020   \n",
      "1  Outlier Analysis of Airport Delay Distribution...       1485  2020   \n",
      "2       Identification of Outliers in Graph Signals*       1485  2019   \n",
      "3  Simulation-based Benefits and Costs Assessment...       1485  2018   \n",
      "4  Evaluating the Impact of Uncertainty on Airpor...       1485  2018   \n",
      "\n",
      "   Citation_Count  \n",
      "0               0  \n",
      "1               1  \n",
      "2               1  \n",
      "3               1  \n",
      "4               5  \n"
     ]
    }
   ],
   "source": [
    "df_proceedings = pd.read_csv('proceedings.csv')\n",
    "print(\"A sample of df_proceedings\")\n",
    "print(df_proceedings.head())"
   ]
  },
  {
   "cell_type": "code",
   "execution_count": 6,
   "metadata": {},
   "outputs": [
    {
     "name": "stdout",
     "output_type": "stream",
     "text": [
      "        Id                 Name  PersonId  LastName  FirstName  \\\n",
      "0     1485  BALAKRISHNAN, HAMSA      6622       NaN        NaN   \n",
      "862  14850     CISSE, IBRAHIM I    779065       NaN        NaN   \n",
      "\n",
      "                       Department   RankName  TotalArticleCount  \\\n",
      "0    Aeronautics and Astronautics  Professor                 46   \n",
      "862                       Physics  Associate                 25   \n",
      "\n",
      "     TotalConfProcCount  TotalGrantCount  TotalGrantDollars  TotalAwardCount  \\\n",
      "0                    63               15                0.0                4   \n",
      "862                   1                3                0.0                4   \n",
      "\n",
      "     TotalCitationCount  TotalBookCount  \n",
      "0                  1477               1  \n",
      "862                2323               0  \n",
      "0\n"
     ]
    }
   ],
   "source": [
    "df_prof = pd.read_csv('MIT_Faculty_deliv3.csv')\n",
    "df_2004 = pd.read_csv('prof_year/2004.csv')\n",
    "test = df_2004.loc[df_2004['Id'].astype(str).str.contains(\"1485\")]\n",
    "print(test)\n",
    "test2 = df_2004.loc[df_2004['Id'].astype(str).str.contains(\"2030\")]\n",
    "print(test2.shape[0])\n",
    "\n",
    "df_2005 = pd.read_csv('prof_year/2005.csv')\n",
    "df_2006 = pd.read_csv('prof_year/2006.csv')\n",
    "df_2007 = pd.read_csv('prof_year/2007.csv')\n",
    "df_2008 = pd.read_csv('prof_year/2008.csv')\n",
    "df_2009 = pd.read_csv('prof_year/2009.csv')\n",
    "df_2010 = pd.read_csv('prof_year/2010.csv')\n",
    "df_2011 = pd.read_csv('prof_year/2011.csv')\n",
    "df_2012 = pd.read_csv('prof_year/2012.csv')\n",
    "df_2013 = pd.read_csv('prof_year/2013.csv')\n",
    "df_2014 = pd.read_csv('prof_year/2014.csv')\n",
    "df_2015 = pd.read_csv('prof_year/2015.csv')\n",
    "df_2016 = pd.read_csv('prof_year/2016.csv')\n",
    "df_2017 = pd.read_csv('prof_year/2017.csv')\n",
    "df_2018 = pd.read_csv('prof_year/2018.csv')\n",
    "df_2019 = pd.read_csv('prof_year/2019.csv')\n",
    "df_2020 = pd.read_csv('prof_year/2020.csv')\n",
    "df_2021 = pd.read_csv('prof_year/2021.csv')\n"
   ]
  },
  {
   "cell_type": "code",
   "execution_count": 7,
   "metadata": {},
   "outputs": [],
   "source": [
    "import numpy as np\n",
    "\n",
    "missing = 0\n",
    "\n",
    "start_year = []\n",
    "end_year = []\n",
    "work_year = []\n",
    "\n",
    "for id in df_prof['Id'].astype(str).tolist():\n",
    "    min = 9999\n",
    "    max = 0\n",
    "    #df_2004.loc[df_2004['Id'].astype(str).str.contains(id)].shape[0] > 0\n",
    "    if (df_2004[df_2004['Id'].astype(str) == id].shape[0] > 0):\n",
    "        temp = 2004\n",
    "        if(temp < min):\n",
    "            min = temp\n",
    "        if(temp > max):\n",
    "            max = temp\n",
    "    \n",
    "    if (df_2005[df_2005['Id'].astype(str) == id].shape[0] > 0):\n",
    "        temp = 2005\n",
    "        if(temp < min):\n",
    "            min = temp\n",
    "        if(temp > max):\n",
    "            max = temp\n",
    "\n",
    "    if (df_2006[df_2006['Id'].astype(str) == id].shape[0] > 0):\n",
    "        temp = 2006\n",
    "        if(temp < min):\n",
    "            min = temp\n",
    "        if(temp > max):\n",
    "            max = temp\n",
    "\n",
    "    if (df_2007[df_2007['Id'].astype(str) == id].shape[0] > 0):\n",
    "        temp = 2007\n",
    "        if(temp < min):\n",
    "            min = temp\n",
    "        if(temp > max):\n",
    "            max = temp\n",
    "\n",
    "    if (df_2008[df_2008['Id'].astype(str) == id].shape[0] > 0):\n",
    "        temp = 2008\n",
    "        if(temp < min):\n",
    "            min = temp\n",
    "        if(temp > max):\n",
    "            max = temp\n",
    "\n",
    "    if (df_2009[df_2009['Id'].astype(str) == id].shape[0] > 0):\n",
    "        temp = 2009\n",
    "        if(temp < min):\n",
    "            min = temp\n",
    "        if(temp > max):\n",
    "            max = temp\n",
    "\n",
    "    if (df_2010[df_2010['Id'].astype(str) == id].shape[0] > 0):\n",
    "        temp = 2010\n",
    "        if(temp < min):\n",
    "            min = temp\n",
    "        if(temp > max):\n",
    "            max = temp\n",
    "\n",
    "    if (df_2011[df_2011['Id'].astype(str) == id].shape[0] > 0):\n",
    "        temp = 2011\n",
    "        if(temp < min):\n",
    "            min = temp\n",
    "        if(temp > max):\n",
    "            max = temp\n",
    "\n",
    "    if (df_2012[df_2012['Id'].astype(str) == id].shape[0] > 0):\n",
    "        temp = 2012\n",
    "        if(temp < min):\n",
    "            min = temp\n",
    "        if(temp > max):\n",
    "            max = temp\n",
    "\n",
    "    if (df_2013[df_2013['Id'].astype(str) == id].shape[0] > 0):\n",
    "        temp = 2013\n",
    "        if(temp < min):\n",
    "            min = temp\n",
    "        if(temp > max):\n",
    "            max = temp\n",
    "\n",
    "    if (df_2014[df_2014['Id'].astype(str) == id].shape[0] > 0):\n",
    "        temp = 2014\n",
    "        if(temp < min):\n",
    "            min = temp\n",
    "        if(temp > max):\n",
    "            max = temp\n",
    "\n",
    "    if (df_2015[df_2015['Id'].astype(str) == id].shape[0] > 0):\n",
    "        temp = 2015\n",
    "        if(temp < min):\n",
    "            min = temp\n",
    "        if(temp > max):\n",
    "            max = temp\n",
    "\n",
    "    if (df_2016[df_2016['Id'].astype(str) == id].shape[0] > 0):\n",
    "        temp = 2016\n",
    "        if(temp < min):\n",
    "            min = temp\n",
    "        if(temp > max):\n",
    "            max = temp\n",
    "\n",
    "    if (df_2017[df_2017['Id'].astype(str) == id].shape[0] > 0):\n",
    "        temp = 2017\n",
    "        if(temp < min):\n",
    "            min = temp\n",
    "        if(temp > max):\n",
    "            max = temp\n",
    "\n",
    "    if (df_2018[df_2018['Id'].astype(str) == id].shape[0] > 0):\n",
    "        temp = 2018\n",
    "        if(temp < min):\n",
    "            min = temp\n",
    "        if(temp > max):\n",
    "            max = temp\n",
    "\n",
    "    if (df_2019[df_2019['Id'].astype(str) == id].shape[0] > 0):\n",
    "        temp = 2019\n",
    "        if(temp < min):\n",
    "            min = temp\n",
    "        if(temp > max):\n",
    "            max = temp\n",
    "\n",
    "    if (df_2020[df_2020['Id'].astype(str) == id].shape[0] > 0):\n",
    "        temp = 2020\n",
    "        if(temp < min):\n",
    "            min = temp\n",
    "        if(temp > max):\n",
    "            max = temp\n",
    "\n",
    "    if (df_2021[df_2021['Id'].astype(str) == id].shape[0] > 0):\n",
    "        temp = 2021\n",
    "        if(temp < min):\n",
    "            min = temp\n",
    "        if(temp > max):\n",
    "            max = temp\n",
    "\n",
    "    \n",
    "    start_year.append(min)\n",
    "    end_year.append(max)\n",
    "    work_year.append(max - min)\n",
    "    if(max == 0 or min == 9999):\n",
    "        missing += 1 "
   ]
  },
  {
   "cell_type": "code",
   "execution_count": 8,
   "metadata": {},
   "outputs": [
    {
     "name": "stdout",
     "output_type": "stream",
     "text": [
      "2\n",
      "     Id                  Name  PersonId                    Department  \\\n",
      "0  1485   BALAKRISHNAN, HAMSA      6622  Aeronautics and Astronautics   \n",
      "1  5860      LEVESON, NANCY G     67304  Aeronautics and Astronautics   \n",
      "2  2680  MASTERSON, REBECCA A    919190  Aeronautics and Astronautics   \n",
      "3  7055          SEAGER, SARA    289272  Aeronautics and Astronautics   \n",
      "4  5285            WANG, QIQI    412240  Aeronautics and Astronautics   \n",
      "\n",
      "    RankName  TotalArticleCount  TotalConfProcCount  TotalGrantCount  \\\n",
      "0  Professor                 46                  63               15   \n",
      "1  Professor                 49                  13               31   \n",
      "2      Other                  1                  14                3   \n",
      "3  Professor                265                  52               51   \n",
      "4  Associate                109                  52               10   \n",
      "\n",
      "   TotalGrantDollars  TotalAwardCount  TotalCitationCount  TotalBookCount  \\\n",
      "0                  0                4                1477               1   \n",
      "1                  0                7                2494              16   \n",
      "2                  0                0                  33               0   \n",
      "3                  0               14               17212              16   \n",
      "4                  0                1                3249               0   \n",
      "\n",
      "   TotalPatentCount  Gender  Accuracy_Gender  Total_Samples_Gender  Matched  \\\n",
      "0               1.0  female             57.0                 431.0      1.0   \n",
      "1               0.0  female             98.0               35222.0      1.0   \n",
      "2               0.0  female             99.0               35211.0      1.0   \n",
      "3               1.0  female             98.0              153041.0      1.0   \n",
      "4               1.0  female             77.0                 359.0      1.0   \n",
      "\n",
      "   Start_year  End_year  Work_year  \n",
      "0        2004      2021         17  \n",
      "1        2004      2021         17  \n",
      "2        2004      2021         17  \n",
      "3        2004      2021         17  \n",
      "4        2004      2021         17  \n"
     ]
    }
   ],
   "source": [
    "print(missing)\n",
    "df_prof['Start_year'] = start_year\n",
    "df_prof['End_year'] = end_year\n",
    "df_prof['Work_year'] = work_year\n",
    "print(df_prof.head())"
   ]
  },
  {
   "cell_type": "code",
   "execution_count": 9,
   "metadata": {},
   "outputs": [
    {
     "name": "stdout",
     "output_type": "stream",
     "text": [
      "(1400, 20)\n",
      "(1282, 20)\n",
      "(118, 20)\n"
     ]
    }
   ],
   "source": [
    "df_prof2 = df_prof[df_prof['Start_year'] != 9999]\n",
    "df_old_prof = df_prof2[df_prof2['Start_year'] <= 2011]\n",
    "df_new_prof = df_prof2[df_prof2['Start_year'] > 2011]\n",
    "\n",
    "print(df_prof2.shape)\n",
    "print(df_old_prof.shape)\n",
    "print(df_new_prof.shape)"
   ]
  },
  {
   "cell_type": "markdown",
   "metadata": {},
   "source": [
    "# Preliminary"
   ]
  },
  {
   "cell_type": "code",
   "execution_count": 10,
   "metadata": {},
   "outputs": [
    {
     "name": "stdout",
     "output_type": "stream",
     "text": [
      "Gender\n",
      "female     651.0\n",
      "male      4215.0\n",
      "Name: TotalPatentCount, dtype: float64\n",
      "Gender\n",
      "female    2.0\n",
      "male      7.0\n",
      "Name: TotalPatentCount, dtype: float64\n",
      "Gender\n",
      "female    2.484733\n",
      "male      4.314227\n",
      "Name: TotalPatentCount, dtype: float64\n",
      "Gender\n",
      "female    0.086957\n",
      "male      0.145833\n",
      "Name: TotalPatentCount, dtype: float64\n"
     ]
    },
    {
     "data": {
      "text/plain": [
       "<BarContainer object of 2 artists>"
      ]
     },
     "execution_count": 10,
     "metadata": {},
     "output_type": "execute_result"
    },
    {
     "data": {
      "image/png": "[encoded data removed]",
      "text/plain": [
       "<Figure size 720x360 with 2 Axes>"
      ]
     },
     "metadata": {
      "needs_background": "light"
     },
     "output_type": "display_data"
    }
   ],
   "source": [
    "# Total patents counts by gender between old professors and new professors\n",
    "Total_Patent_by_gender_sum_Old= df_old_prof.groupby('Gender')['TotalPatentCount'].sum()\n",
    "print(Total_Patent_by_gender_sum_Old)\n",
    "Total_Patent_by_gender_sum_New = df_new_prof.groupby('Gender')['TotalPatentCount'].sum()\n",
    "print(Total_Patent_by_gender_sum_New)\n",
    "# Mean of total patents counts by gender between old professors and new professors\n",
    "Total_Patent_by_gender_mean_Old = df_old_prof.groupby('Gender')['TotalPatentCount'].mean()\n",
    "print(Total_Patent_by_gender_mean_Old)\n",
    "Total_Patent_by_gender_mean_New = df_new_prof.groupby('Gender')['TotalPatentCount'].mean()\n",
    "print(Total_Patent_by_gender_mean_New)\n",
    "\n",
    "gender =['female','male']\n",
    "fig, (ax1, ax2) = plt.subplots(1,2,figsize=(10,5))\n",
    "ax1.bar(gender, Total_Patent_by_gender_mean_Old)\n",
    "ax2.bar(gender, Total_Patent_by_gender_mean_New)"
   ]
  },
  {
   "cell_type": "code",
   "execution_count": 11,
   "metadata": {},
   "outputs": [
    {
     "name": "stdout",
     "output_type": "stream",
     "text": [
      "Gender\n",
      "female     4220\n",
      "male      18602\n",
      "Name: TotalConfProcCount, dtype: int64\n",
      "Gender\n",
      "female    181\n",
      "male      376\n",
      "Name: TotalConfProcCount, dtype: int64\n",
      "Gender\n",
      "female    15.629630\n",
      "male      18.381423\n",
      "Name: TotalConfProcCount, dtype: float64\n",
      "Gender\n",
      "female    4.641026\n",
      "male      4.759494\n",
      "Name: TotalConfProcCount, dtype: float64\n"
     ]
    },
    {
     "data": {
      "text/plain": [
       "<BarContainer object of 2 artists>"
      ]
     },
     "execution_count": 11,
     "metadata": {},
     "output_type": "execute_result"
    },
    {
     "data": {
      "image/png": "[encoded data removed]",
      "text/plain": [
       "<Figure size 720x360 with 2 Axes>"
      ]
     },
     "metadata": {
      "needs_background": "light"
     },
     "output_type": "display_data"
    }
   ],
   "source": [
    "# Total conference proceedings counts by gender between old professors and new professors\n",
    "Total_ConPro_by_gender_sum_Old= df_old_prof.groupby('Gender')['TotalConfProcCount'].sum()\n",
    "print(Total_ConPro_by_gender_sum_Old)\n",
    "Total_ConPro_by_gender_sum_New = df_new_prof.groupby('Gender')['TotalConfProcCount'].sum()\n",
    "print(Total_ConPro_by_gender_sum_New)\n",
    "# Mean of total conference proceedings counts by gender between old professors and new professors\n",
    "Total_ConPro_by_gender_mean_Old = df_old_prof.groupby('Gender')['TotalConfProcCount'].mean()\n",
    "print(Total_ConPro_by_gender_mean_Old)\n",
    "Total_ConPro_by_gender_mean_New = df_new_prof.groupby('Gender')['TotalConfProcCount'].mean()\n",
    "print(Total_ConPro_by_gender_mean_New)\n",
    "\n",
    "gender =['female','male']\n",
    "fig, (ax1, ax2) = plt.subplots(1,2,figsize=(10,5))\n",
    "ax1.bar(gender, Total_ConPro_by_gender_mean_Old)\n",
    "ax2.bar(gender, Total_ConPro_by_gender_mean_New)"
   ]
  },
  {
   "cell_type": "code",
   "execution_count": 12,
   "metadata": {},
   "outputs": [
    {
     "name": "stdout",
     "output_type": "stream",
     "text": [
      "Gender\n",
      "female    19784\n",
      "male      91989\n",
      "Name: TotalArticleCount, dtype: int64\n",
      "Gender\n",
      "female    1744\n",
      "male      5938\n",
      "Name: TotalArticleCount, dtype: int64\n",
      "Gender\n",
      "female    73.274074\n",
      "male      90.898221\n",
      "Name: TotalArticleCount, dtype: float64\n",
      "Gender\n",
      "female    44.717949\n",
      "male      75.164557\n",
      "Name: TotalArticleCount, dtype: float64\n"
     ]
    },
    {
     "data": {
      "text/plain": [
       "<BarContainer object of 2 artists>"
      ]
     },
     "execution_count": 12,
     "metadata": {},
     "output_type": "execute_result"
    },
    {
     "data": {
      "image/png": "[encoded data removed]",
      "text/plain": [
       "<Figure size 720x360 with 2 Axes>"
      ]
     },
     "metadata": {
      "needs_background": "light"
     },
     "output_type": "display_data"
    }
   ],
   "source": [
    "# Total article counts by gender between old professors and new professors\n",
    "Total_Article_by_gender_sum_Old= df_old_prof.groupby('Gender')['TotalArticleCount'].sum()\n",
    "print(Total_Article_by_gender_sum_Old)\n",
    "Total_Article_by_gender_sum_New = df_new_prof.groupby('Gender')['TotalArticleCount'].sum()\n",
    "print(Total_Article_by_gender_sum_New)\n",
    "# Mean of total article counts by gender between old professors and new professors\n",
    "Total_Article_by_gender_mean_Old = df_old_prof.groupby('Gender')['TotalArticleCount'].mean()\n",
    "print(Total_Article_by_gender_mean_Old)\n",
    "Total_Article_by_gender_mean_New = df_new_prof.groupby('Gender')['TotalArticleCount'].mean()\n",
    "print(Total_Article_by_gender_mean_New)\n",
    "\n",
    "gender =['female','male']\n",
    "fig, (ax1, ax2) = plt.subplots(1,2,figsize=(10,5))\n",
    "ax1.bar(gender, Total_Article_by_gender_mean_Old)\n",
    "ax2.bar(gender, Total_Article_by_gender_mean_New)"
   ]
  },
  {
   "cell_type": "markdown",
   "metadata": {},
   "source": [
    "# Key Question 3:\n",
    "\n",
    "## Are newer professors (professors who have been at MIT less than ten years) experiencing similar gaps to older professors?"
   ]
  },
  {
   "cell_type": "code",
   "execution_count": 13,
   "metadata": {},
   "outputs": [],
   "source": [
    "fields_of_interest = ['TotalPatentCount', 'TotalArticleCount', 'TotalConfProcCount']\n",
    "import scipy.stats as stats\n",
    "\n",
    "# testing at Confidence level 95%\n",
    "alpha = 0.05\n",
    "\n"
   ]
  },
  {
   "cell_type": "code",
   "execution_count": 14,
   "metadata": {},
   "outputs": [],
   "source": [
    "#function that returns False if H0 is rejected, otherwise True\n",
    "\n",
    "def t_test_on_field(df):\n",
    "    all_field_result = []\n",
    "\n",
    "    for field in fields_of_interest:\n",
    "        print(\"Current field of interest is: \", field)\n",
    "    \n",
    "        \n",
    "        group_male = df[field][df['Gender'] == 'male']\n",
    "        group_female = df[field][df['Gender'] == 'female']\n",
    "        \n",
    "        #print(group_male.shape[0])\n",
    "        #print(group_female.shape[0])\n",
    "        \n",
    "        mnob = 0\n",
    "        mmean = 0\n",
    "        mvar = 0\n",
    "        fnob = 0\n",
    "        fmean = 0\n",
    "        fvar = 0\n",
    "        \n",
    "        if (group_male.shape[0] > 0):\n",
    "            mnob, _ , mmean, mvar, _, _ = stats.describe(group_male)\n",
    "        \n",
    "        if (group_female.shape[0] > 0):\n",
    "            fnob, _ , fmean, fvar, _, _ = stats.describe(group_female)\n",
    "    \n",
    "        \n",
    "        mstd = mvar ** 0.5\n",
    "        fstd = fvar ** 0.5\n",
    "        \n",
    "        # a flag bit, 1 if male mean is higher and 0 if vice versa\n",
    "        higher_bit = 0\n",
    "        if mmean > fmean:\n",
    "            higher_bit = 1\n",
    "    \n",
    "        _, pv = stats.levene(group_male,\n",
    "                 group_female,\n",
    "                 center= 'mean')\n",
    "        \n",
    "        if pv >= alpha:\n",
    "            # insignificant pv, identical variation\n",
    "            # t-test on H0: mean of male = mean of female\n",
    "            stat, p_value = stats.ttest_ind_from_stats( mean1= mmean, std1= mstd, nobs1= mnob,\n",
    "\n",
    "                                        mean2= fmean, std2= fstd, nobs2= fnob)\n",
    "            if p_value < alpha:\n",
    "                # t-test result reject H0, significantly different\n",
    "                all_field_result.append((False, higher_bit))\n",
    "                print(\"Test result: False\")\n",
    "            else:\n",
    "                all_field_result.append((True, -1))\n",
    "                print(\"Test result: True\")\n",
    "        else:\n",
    "            # significant pv, un-identical variation\n",
    "            # t-test on H0: mean of male = mean of female\n",
    "            stat, p_value = stats.ttest_ind_from_stats( mean1= mmean, std1= mstd, nobs1= mnob,\n",
    "\n",
    "                                        mean2= fmean, std2= fstd, nobs2= fnob, equal_var = False)\n",
    "            \n",
    "            if p_value < alpha:\n",
    "                # t-test result reject H0, significantly different\n",
    "                all_field_result.append((False, higher_bit))\n",
    "                print(\"Test result: False\")\n",
    "            else:\n",
    "                all_field_result.append((True, -1))\n",
    "                print(\"Test result: True\")\n",
    "    \n",
    "    total_points = df.shape[0]\n",
    "    warning = False\n",
    "    male_count = df[df['Gender'] == 'male'].shape[0]\n",
    "    female_count = df[df['Gender'] == 'female'].shape[0]\n",
    "    if (male_count == 0 or female_count == 0):\n",
    "        warning = True\n",
    "    \n",
    "    \n",
    "    return (all_field_result, total_points, warning)"
   ]
  },
  {
   "cell_type": "code",
   "execution_count": 15,
   "metadata": {},
   "outputs": [
    {
     "name": "stdout",
     "output_type": "stream",
     "text": [
      "Current field of interest is:  TotalPatentCount\n",
      "Test result: True\n",
      "Current field of interest is:  TotalArticleCount\n",
      "Test result: False\n",
      "Current field of interest is:  TotalConfProcCount\n",
      "Test result: True\n",
      "([(True, -1), (False, 1), (True, -1)], 1400, False)\n",
      "Current field of interest is:  TotalPatentCount\n",
      "Test result: True\n",
      "Current field of interest is:  TotalArticleCount\n",
      "Test result: True\n",
      "Current field of interest is:  TotalConfProcCount\n",
      "Test result: True\n",
      "([(True, -1), (True, -1), (True, -1)], 1282, False)\n",
      "Current field of interest is:  TotalPatentCount\n",
      "Test result: True\n",
      "Current field of interest is:  TotalArticleCount\n",
      "Test result: True\n",
      "Current field of interest is:  TotalConfProcCount\n",
      "Test result: True\n",
      "([(True, -1), (True, -1), (True, -1)], 118, False)\n"
     ]
    }
   ],
   "source": [
    "test_res_overall = t_test_on_field(df_prof2)\n",
    "print(test_res_overall)\n",
    "\n",
    "\n",
    "\n",
    "test_res_overall_old = t_test_on_field(df_old_prof)\n",
    "print(test_res_overall_old)\n",
    "\n",
    "test_res_overall_new = t_test_on_field(df_new_prof)\n",
    "print(test_res_overall_new)\n",
    "\n",
    "\n"
   ]
  },
  {
   "cell_type": "code",
   "execution_count": 16,
   "metadata": {},
   "outputs": [
    {
     "name": "stdout",
     "output_type": "stream",
     "text": [
      "Summary\n",
      "\n",
      "For Total Patent Count\n",
      "Overall:  True  Older:  True  New:  True\n",
      "For Total Article Count\n",
      "Overall:  False  Older:  True  New:  True\n",
      "For Total Conference Proceedings Count\n",
      "Overall:  True  Older:  True  New:  True\n",
      "\n",
      "Legend: True := H0 not rejected, no evidence for disparity, False := H0 rejected, significant disparity\n"
     ]
    }
   ],
   "source": [
    "print(\"Summary\")\n",
    "print()\n",
    "print(\"For Total Patent Count\")\n",
    "print(\"Overall: \", test_res_overall[0][0][0], \" Older: \", test_res_overall_old[0][0][0], \" New: \", test_res_overall_new[0][0][0])\n",
    "print(\"For Total Article Count\")\n",
    "print(\"Overall: \", test_res_overall[0][1][0], \" Older: \", test_res_overall_old[0][1][0], \" New: \", test_res_overall_new[0][1][0])\n",
    "print(\"For Total Conference Proceedings Count\")\n",
    "print(\"Overall: \", test_res_overall[0][2][0], \" Older: \", test_res_overall_old[0][2][0], \" New: \", test_res_overall_new[0][2][0])\n",
    "print()\n",
    "print(\"Legend: True := H0 not rejected, no evidence for disparity, False := H0 rejected, significant disparity\")"
   ]
  },
  {
   "cell_type": "markdown",
   "metadata": {},
   "source": [
    "## Interpretation of the results\n",
    "### Comparing disparity between male and female professors who joined MIT before 2011 and after 2011\n",
    "\n",
    "#### Patent Count:\n",
    "The test showed that there was no disparity between male and female professors overall, between older professors and newer professors.\n",
    "\n",
    "#### Article Count:\n",
    "The test showed that there is a disparity between male and female professors overall, however no statistically significant disparity was found between older and newer professors, which are both subsets of the overal test case. More on this will be discussed in the limitations section located at the bottom of the file.\n",
    "\n",
    "#### Conference Proceedings Count:\n",
    "The test showed that there was no disparity between male and female professors overall, between older professors and newer professors.\n"
   ]
  },
  {
   "cell_type": "code",
   "execution_count": 17,
   "metadata": {},
   "outputs": [
    {
     "data": {
      "image/png": "[encoded data removed]",
      "text/plain": [
       "<Figure size 1440x648 with 1 Axes>"
      ]
     },
     "metadata": {
      "needs_background": "light"
     },
     "output_type": "display_data"
    }
   ],
   "source": [
    "import numpy as np\n",
    "import matplotlib.pyplot as plt\n",
    "\n",
    "X = df_new_prof['Department'].unique()\n",
    "#print(X)\n",
    "\n",
    "male = []\n",
    "female = []\n",
    "\n",
    "for dept in X:\n",
    "    df = df_new_prof[df_new_prof['Department'] == dept]\n",
    "    \n",
    "    group_male = df[df['Gender'] == 'male']\n",
    "    group_female = df[df['Gender'] == 'female']\n",
    "    male.append(group_male.shape[0])\n",
    "    female.append(group_female.shape[0])\n",
    "\n",
    "  \n",
    "\n",
    "f = plt.figure()\n",
    "f.set_figwidth(20)\n",
    "f.set_figheight(9)\n",
    "\n",
    "X_axis = np.arange(len(X))\n",
    "  \n",
    "plt.bar(X_axis - 0.2, male, 0.4, label = 'Male')\n",
    "plt.bar(X_axis + 0.2, female, 0.4, label = 'Female')\n",
    "\n",
    "\n",
    "plt.xticks(X_axis, X, rotation = 90)\n",
    "plt.xlabel(\"Departments\")\n",
    "plt.ylabel(\"Number of Professors\")\n",
    "plt.title(\"Number of Professors in each Department who joined MIT after 2011\")\n",
    "plt.legend()\n",
    "\n",
    "plt.show()"
   ]
  },
  {
   "cell_type": "code",
   "execution_count": 18,
   "metadata": {},
   "outputs": [
    {
     "name": "stdout",
     "output_type": "stream",
     "text": [
      "(1400, 20)\n",
      "(200, 20)\n",
      "(1200, 20)\n"
     ]
    }
   ],
   "source": [
    "df_prof_short = df_prof2[df_prof2['Work_year'] <= 10]\n",
    "df_prof_long = df_prof2[df_prof2['Work_year'] > 10]\n",
    "\n",
    "print(df_prof2.shape)\n",
    "print(df_prof_short.shape)\n",
    "print(df_prof_long.shape)"
   ]
  },
  {
   "cell_type": "code",
   "execution_count": 19,
   "metadata": {},
   "outputs": [
    {
     "name": "stdout",
     "output_type": "stream",
     "text": [
      "Current field of interest is:  TotalPatentCount\n",
      "Test result: True\n",
      "Current field of interest is:  TotalArticleCount\n",
      "Test result: False\n",
      "Current field of interest is:  TotalConfProcCount\n",
      "Test result: True\n",
      "([(True, -1), (False, 1), (True, -1)], 1400, False)\n",
      "Current field of interest is:  TotalPatentCount\n",
      "Test result: True\n",
      "Current field of interest is:  TotalArticleCount\n",
      "Test result: True\n",
      "Current field of interest is:  TotalConfProcCount\n",
      "Test result: True\n",
      "([(True, -1), (True, -1), (True, -1)], 200, False)\n",
      "Current field of interest is:  TotalPatentCount\n",
      "Test result: True\n",
      "Current field of interest is:  TotalArticleCount\n",
      "Test result: False\n",
      "Current field of interest is:  TotalConfProcCount\n",
      "Test result: True\n",
      "([(True, -1), (False, 1), (True, -1)], 1200, False)\n"
     ]
    }
   ],
   "source": [
    "test_res_overall = t_test_on_field(df_prof2)\n",
    "print(test_res_overall)\n",
    "\n",
    "\n",
    "\n",
    "test_res_short = t_test_on_field(df_prof_short)\n",
    "print(test_res_short)\n",
    "\n",
    "test_res_long = t_test_on_field(df_prof_long)\n",
    "print(test_res_long)"
   ]
  },
  {
   "cell_type": "code",
   "execution_count": 20,
   "metadata": {},
   "outputs": [
    {
     "name": "stdout",
     "output_type": "stream",
     "text": [
      "\n",
      "\n",
      "Summary\n",
      "\n",
      "For Total Patent Count\n",
      "Overall:  True  Older:  True  New:  True\n",
      "For Total Article Count\n",
      "Overall:  False  Older:  False  New:  True\n",
      "For Total Conference Proceedings Count\n",
      "Overall:  True  Older:  True  New:  True\n",
      "\n",
      "Legend: True := H0 not rejected, no evidence for disparity, False := H0 rejected, significant disparity\n"
     ]
    }
   ],
   "source": [
    "print()\n",
    "print()\n",
    "print(\"Summary\")\n",
    "print()\n",
    "print(\"For Total Patent Count\")\n",
    "print(\"Overall: \", test_res_overall[0][0][0], \" Older: \", test_res_long[0][0][0], \" New: \", test_res_short[0][0][0])\n",
    "print(\"For Total Article Count\")\n",
    "print(\"Overall: \", test_res_overall[0][1][0], \" Older: \", test_res_long[0][1][0], \" New: \", test_res_short[0][1][0])\n",
    "print(\"For Total Conference Proceedings Count\")\n",
    "print(\"Overall: \", test_res_overall[0][2][0], \" Older: \", test_res_long[0][2][0], \" New: \", test_res_short[0][2][0])\n",
    "print()\n",
    "print(\"Legend: True := H0 not rejected, no evidence for disparity, False := H0 rejected, significant disparity\")"
   ]
  },
  {
   "cell_type": "markdown",
   "metadata": {},
   "source": [
    "## Interpretation of the results\n",
    "### Comparing disparity between male and female professors who has worked in MIT for less than or equal to 10 years vs more than 10 years\n",
    "\n",
    "#### Patent Count:\n",
    "The test showed that there was no disparity between male and female professors overall, between older professors and newer professors.\n",
    "\n",
    "#### Article Count:\n",
    "The test showed that there is a disparity between male and female professors overall. The same disparity exists among older professors (professors who have worked in MIT for more than 10 years) but no significant disparity is found among newer professors.\n",
    "\n",
    "#### Conference Proceedings Count:\n",
    "The test showed that there was no disparity between male and female professors overall, between older professors and newer professors."
   ]
  },
  {
   "cell_type": "code",
   "execution_count": 21,
   "metadata": {},
   "outputs": [
    {
     "data": {
      "image/png": "[encoded data removed]",
      "text/plain": [
       "<Figure size 1440x648 with 1 Axes>"
      ]
     },
     "metadata": {
      "needs_background": "light"
     },
     "output_type": "display_data"
    }
   ],
   "source": [
    "X = df_prof_short['Department'].unique()\n",
    "#print(X)\n",
    "\n",
    "male = []\n",
    "female = []\n",
    "\n",
    "for dept in X:\n",
    "    df = df_prof_short[df_prof_short['Department'] == dept]\n",
    "    \n",
    "    group_male = df[df['Gender'] == 'male']\n",
    "    group_female = df[df['Gender'] == 'female']\n",
    "    male.append(group_male.shape[0])\n",
    "    female.append(group_female.shape[0])\n",
    "\n",
    "  \n",
    "\n",
    "f = plt.figure()\n",
    "f.set_figwidth(20)\n",
    "f.set_figheight(9)\n",
    "\n",
    "X_axis = np.arange(len(X))\n",
    "  \n",
    "plt.bar(X_axis - 0.2, male, 0.4, label = 'Male')\n",
    "plt.bar(X_axis + 0.2, female, 0.4, label = 'Female')\n",
    "\n",
    "\n",
    "plt.xticks(X_axis, X, rotation = 90)\n",
    "plt.xlabel(\"Departments\")\n",
    "plt.ylabel(\"Number of Professors\")\n",
    "plt.title(\"Number of Professors in each Department who worked less than 10 years in MIT\")\n",
    "plt.legend()\n",
    "\n",
    "plt.show()\n",
    "\n",
    "\n"
   ]
  },
  {
   "cell_type": "markdown",
   "metadata": {},
   "source": [
    "df_prof_front = df_prof2[df_prof2['Work_year'] <= 14]\n",
    "df_prof_back = df_prof2[df_prof2['Work_year'] > 14]\n",
    "\n",
    "print(df_prof2.shape)\n",
    "print(df_prof_front.shape)\n",
    "print(df_prof_back.shape)"
   ]
  },
  {
   "cell_type": "markdown",
   "metadata": {},
   "source": [
    "# Limitations:\n",
    "The biggest challenge for analyzing the data above is the imbalance & limited sample size between older and newer professors. From the preliminary analysis we also see that in general older professors has a lot more patents, articles and conference proceedings than the newer professors regardless of gender. This drastic difference meant that the only way to produce a meaningful test result was to test older professors and newer professors independently. In the case where we devided the professors by joining MIT before or after 2011, there were only 118 professors who joined after 2011 compared to 1282 professors who joined before. The limited sample size for newer professors meant a larger confidence interval for the tests which may be why for articles the disparity found in the entire dataset disappeared in the two subsets. The distribution for sample size slightly improved when we partitioned the professors by work year, with 200 in newer and 1200 in older, however it is still not ideal. The histogram after both tests plots the number of new professors for each department. Given the limited sample for newer professors, we decided that we would not compare the disparity between departments."
   ]
  }
 ],
 "metadata": {
  "interpreter": {
   "hash": "183bbf6827d058c2a2fb0f4acdc0420849dda2b4380af0e437e38c64d798d8b7"
  },
  "kernelspec": {
   "display_name": "Python 3.8.8 64-bit ('base': conda)",
   "language": "python",
   "name": "python3"
  },
  "language_info": {
   "codemirror_mode": {
    "name": "ipython",
    "version": 3
   },
   "file_extension": ".py",
   "mimetype": "text/x-python",
   "name": "python",
   "nbconvert_exporter": "python",
   "pygments_lexer": "ipython3",
   "version": "3.8.8"
  },
  "orig_nbformat": 4
 },
 "nbformat": 4,
 "nbformat_minor": 2
}

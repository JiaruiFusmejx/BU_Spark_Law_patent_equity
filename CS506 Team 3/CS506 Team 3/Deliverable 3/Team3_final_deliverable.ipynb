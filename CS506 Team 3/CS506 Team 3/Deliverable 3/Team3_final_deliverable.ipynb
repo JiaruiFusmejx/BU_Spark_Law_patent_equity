{
 "cells": [
  {
   "cell_type": "code",
   "execution_count": 1,
   "metadata": {},
   "outputs": [],
   "source": [
    "import pandas as pd\n",
    "import matplotlib.pyplot as plt\n",
    "import seaborn as sns"
   ]
  },
  {
   "cell_type": "markdown",
   "metadata": {},
   "source": [
    "# Final Deliverable for Team 3\n",
    "\n",
    "### This file is a collection of the first three Deliverables of Team 3. Holding code, preliminary analysis, and answers to all three Key questions."
   ]
  },
  {
   "cell_type": "markdown",
   "metadata": {},
   "source": [
    "# Preprocessing Step\n",
    "\n",
    "Here we remove USPTO numbers for patent applications (has the format of nn/nnnnnn or 11-12 digits) or in the wrong format"
   ]
  },
  {
   "cell_type": "code",
   "execution_count": 3,
   "metadata": {},
   "outputs": [
    {
     "name": "stdout",
     "output_type": "stream",
     "text": [
      "Before processing:  (6179, 3)\n",
      "After processing:  (4569, 5)\n"
     ]
    }
   ],
   "source": [
    "#df = pd.read_csv('D:\\CS\\cs506\\project/patents_date.csv')\n",
    "df = pd.read_csv('new_data/patents_date.csv')\n",
    "\n",
    "print('Before processing: ', df.shape)\n",
    "df_patents = df[~df['USPTO'].str.contains('/')].reset_index()\n",
    "df_patents['Len_USPTO'] = df_patents['USPTO'].astype(str).apply(len)\n",
    "df_patents = df_patents[(df_patents['Len_USPTO'] > 6) & (df_patents['Len_USPTO'] < 9)]\n",
    "print('After processing: ', df_patents.shape)\n",
    "\n"
   ]
  },
  {
   "cell_type": "markdown",
   "metadata": {},
   "source": [
    "Currently we are only able to acquire filing dates for ~3800 USPTO numbers from USPTO's database and hence eliminate those not yet found from our analysis."
   ]
  },
  {
   "cell_type": "code",
   "execution_count": 4,
   "metadata": {},
   "outputs": [
    {
     "name": "stdout",
     "output_type": "stream",
     "text": [
      "After eliminating nan values:  (3873, 7)\n",
      "Number of unique patents in final selection:  3018\n",
      "A sample of df_patents_nonan\n",
      "   level_0  index     USPTO  Author_Id Filing_Date  Len_USPTO  Year\n",
      "0        0      0   9741253       1485  2015-10-09          7  2015\n",
      "1        1      2  10917173       4030  2019-09-24          8  2019\n",
      "2        2      3  10899479       4030  2018-06-11          8  2018\n",
      "3        3      4  10826609       4030  2019-06-20          8  2019\n",
      "4        4      5  10530478       4030  2017-11-06          8  2017\n"
     ]
    }
   ],
   "source": [
    "df_patents_nonan = df_patents.dropna().reset_index()\n",
    "df_patents_nonan['Year'] = pd.to_datetime(df_patents_nonan['Filing_Date']).dt.year\n",
    "print('After eliminating nan values: ', df_patents_nonan.shape)\n",
    "print('Number of unique patents in final selection: ', len(pd.unique(df_patents_nonan['USPTO'])))\n",
    "print(\"A sample of df_patents_nonan\")\n",
    "print(df_patents_nonan.head())"
   ]
  },
  {
   "cell_type": "code",
   "execution_count": 5,
   "metadata": {},
   "outputs": [
    {
     "name": "stdout",
     "output_type": "stream",
     "text": [
      "shape: (131307, 4)\n",
      "A sample of df_articles\n",
      "                                               Title  Author_Id  Year  \\\n",
      "0  Robust Control of Arrivals Into a Queuing Network       1485  2021   \n",
      "1   Control and Optimization of Air Traffic Networks       1485  2021   \n",
      "2  Efficiency and Fairness in Unmanned Air Traffi...       1485  2021   \n",
      "3  Comparative Analysis of Departure Metering at ...       1485  2020   \n",
      "4  Sign-stability of Positive Markov Jump Linear ...       1485  2020   \n",
      "\n",
      "   Citation_Count  \n",
      "0               0  \n",
      "1               0  \n",
      "2               0  \n",
      "3               0  \n",
      "4               1  \n"
     ]
    }
   ],
   "source": [
    "df_articles = pd.read_csv('new_data/articles.csv')\n",
    "print(\"shape:\", df_articles.shape)\n",
    "print(\"A sample of df_articles\")\n",
    "print(df_articles.head())\n"
   ]
  },
  {
   "cell_type": "code",
   "execution_count": 6,
   "metadata": {},
   "outputs": [
    {
     "name": "stdout",
     "output_type": "stream",
     "text": [
      "shape: (25718, 4)\n",
      "A sample of df_proceedings\n",
      "                                               Title  Author_Id  Year  \\\n",
      "0   Approximate Projection-Based Control of Networks       1485  2020   \n",
      "1  Outlier Analysis of Airport Delay Distribution...       1485  2020   \n",
      "2       Identification of Outliers in Graph Signals*       1485  2019   \n",
      "3  Simulation-based Benefits and Costs Assessment...       1485  2018   \n",
      "4  Evaluating the Impact of Uncertainty on Airpor...       1485  2018   \n",
      "\n",
      "   Citation_Count  \n",
      "0               0  \n",
      "1               1  \n",
      "2               1  \n",
      "3               1  \n",
      "4               5  \n"
     ]
    }
   ],
   "source": [
    "df_proceedings = pd.read_csv('new_data/proc.csv')\n",
    "print(\"shape:\", df_proceedings.shape)\n",
    "print(\"A sample of df_proceedings\")\n",
    "print(df_proceedings.head())"
   ]
  },
  {
   "cell_type": "code",
   "execution_count": 7,
   "metadata": {},
   "outputs": [
    {
     "name": "stdout",
     "output_type": "stream",
     "text": [
      "        Id                 Name  PersonId  LastName  FirstName  \\\n",
      "0     1485  BALAKRISHNAN, HAMSA      6622       NaN        NaN   \n",
      "862  14850     CISSE, IBRAHIM I    779065       NaN        NaN   \n",
      "\n",
      "                       Department   RankName  TotalArticleCount  \\\n",
      "0    Aeronautics and Astronautics  Professor                 46   \n",
      "862                       Physics  Associate                 25   \n",
      "\n",
      "     TotalConfProcCount  TotalGrantCount  TotalGrantDollars  TotalAwardCount  \\\n",
      "0                    63               15                0.0                4   \n",
      "862                   1                3                0.0                4   \n",
      "\n",
      "     TotalCitationCount  TotalBookCount  \n",
      "0                  1477               1  \n",
      "862                2323               0  \n",
      "0\n"
     ]
    }
   ],
   "source": [
    "df_prof = pd.read_csv('new_data/MIT_Faculty.csv')\n",
    "df_2004 = pd.read_csv('prof_year/2004.csv')\n",
    "test = df_2004.loc[df_2004['Id'].astype(str).str.contains(\"1485\")]\n",
    "print(test)\n",
    "test2 = df_2004.loc[df_2004['Id'].astype(str).str.contains(\"2030\")]\n",
    "print(test2.shape[0])\n",
    "\n",
    "df_2005 = pd.read_csv('prof_year/2005.csv')\n",
    "df_2006 = pd.read_csv('prof_year/2006.csv')\n",
    "df_2007 = pd.read_csv('prof_year/2007.csv')\n",
    "df_2008 = pd.read_csv('prof_year/2008.csv')\n",
    "df_2009 = pd.read_csv('prof_year/2009.csv')\n",
    "df_2010 = pd.read_csv('prof_year/2010.csv')\n",
    "df_2011 = pd.read_csv('prof_year/2011.csv')\n",
    "df_2012 = pd.read_csv('prof_year/2012.csv')\n",
    "df_2013 = pd.read_csv('prof_year/2013.csv')\n",
    "df_2014 = pd.read_csv('prof_year/2014.csv')\n",
    "df_2015 = pd.read_csv('prof_year/2015.csv')\n",
    "df_2016 = pd.read_csv('prof_year/2016.csv')\n",
    "df_2017 = pd.read_csv('prof_year/2017.csv')\n",
    "df_2018 = pd.read_csv('prof_year/2018.csv')\n",
    "df_2019 = pd.read_csv('prof_year/2019.csv')\n",
    "df_2020 = pd.read_csv('prof_year/2020.csv')\n",
    "df_2021 = pd.read_csv('prof_year/2021.csv')\n"
   ]
  },
  {
   "cell_type": "code",
   "execution_count": 8,
   "metadata": {},
   "outputs": [],
   "source": [
    "import numpy as np\n",
    "\n",
    "missing = 0\n",
    "\n",
    "start_year = []\n",
    "end_year = []\n",
    "work_year = []\n",
    "\n",
    "for id in df_prof['Id'].astype(str).tolist():\n",
    "    min = 9999\n",
    "    max = 0\n",
    "    #df_2004.loc[df_2004['Id'].astype(str).str.contains(id)].shape[0] > 0\n",
    "    if (df_2004[df_2004['Id'].astype(str) == id].shape[0] > 0):\n",
    "        temp = 2004\n",
    "        if(temp < min):\n",
    "            min = temp\n",
    "        if(temp > max):\n",
    "            max = temp\n",
    "    \n",
    "    if (df_2005[df_2005['Id'].astype(str) == id].shape[0] > 0):\n",
    "        temp = 2005\n",
    "        if(temp < min):\n",
    "            min = temp\n",
    "        if(temp > max):\n",
    "            max = temp\n",
    "\n",
    "    if (df_2006[df_2006['Id'].astype(str) == id].shape[0] > 0):\n",
    "        temp = 2006\n",
    "        if(temp < min):\n",
    "            min = temp\n",
    "        if(temp > max):\n",
    "            max = temp\n",
    "\n",
    "    if (df_2007[df_2007['Id'].astype(str) == id].shape[0] > 0):\n",
    "        temp = 2007\n",
    "        if(temp < min):\n",
    "            min = temp\n",
    "        if(temp > max):\n",
    "            max = temp\n",
    "\n",
    "    if (df_2008[df_2008['Id'].astype(str) == id].shape[0] > 0):\n",
    "        temp = 2008\n",
    "        if(temp < min):\n",
    "            min = temp\n",
    "        if(temp > max):\n",
    "            max = temp\n",
    "\n",
    "    if (df_2009[df_2009['Id'].astype(str) == id].shape[0] > 0):\n",
    "        temp = 2009\n",
    "        if(temp < min):\n",
    "            min = temp\n",
    "        if(temp > max):\n",
    "            max = temp\n",
    "\n",
    "    if (df_2010[df_2010['Id'].astype(str) == id].shape[0] > 0):\n",
    "        temp = 2010\n",
    "        if(temp < min):\n",
    "            min = temp\n",
    "        if(temp > max):\n",
    "            max = temp\n",
    "\n",
    "    if (df_2011[df_2011['Id'].astype(str) == id].shape[0] > 0):\n",
    "        temp = 2011\n",
    "        if(temp < min):\n",
    "            min = temp\n",
    "        if(temp > max):\n",
    "            max = temp\n",
    "\n",
    "    if (df_2012[df_2012['Id'].astype(str) == id].shape[0] > 0):\n",
    "        temp = 2012\n",
    "        if(temp < min):\n",
    "            min = temp\n",
    "        if(temp > max):\n",
    "            max = temp\n",
    "\n",
    "    if (df_2013[df_2013['Id'].astype(str) == id].shape[0] > 0):\n",
    "        temp = 2013\n",
    "        if(temp < min):\n",
    "            min = temp\n",
    "        if(temp > max):\n",
    "            max = temp\n",
    "\n",
    "    if (df_2014[df_2014['Id'].astype(str) == id].shape[0] > 0):\n",
    "        temp = 2014\n",
    "        if(temp < min):\n",
    "            min = temp\n",
    "        if(temp > max):\n",
    "            max = temp\n",
    "\n",
    "    if (df_2015[df_2015['Id'].astype(str) == id].shape[0] > 0):\n",
    "        temp = 2015\n",
    "        if(temp < min):\n",
    "            min = temp\n",
    "        if(temp > max):\n",
    "            max = temp\n",
    "\n",
    "    if (df_2016[df_2016['Id'].astype(str) == id].shape[0] > 0):\n",
    "        temp = 2016\n",
    "        if(temp < min):\n",
    "            min = temp\n",
    "        if(temp > max):\n",
    "            max = temp\n",
    "\n",
    "    if (df_2017[df_2017['Id'].astype(str) == id].shape[0] > 0):\n",
    "        temp = 2017\n",
    "        if(temp < min):\n",
    "            min = temp\n",
    "        if(temp > max):\n",
    "            max = temp\n",
    "\n",
    "    if (df_2018[df_2018['Id'].astype(str) == id].shape[0] > 0):\n",
    "        temp = 2018\n",
    "        if(temp < min):\n",
    "            min = temp\n",
    "        if(temp > max):\n",
    "            max = temp\n",
    "\n",
    "    if (df_2019[df_2019['Id'].astype(str) == id].shape[0] > 0):\n",
    "        temp = 2019\n",
    "        if(temp < min):\n",
    "            min = temp\n",
    "        if(temp > max):\n",
    "            max = temp\n",
    "\n",
    "    if (df_2020[df_2020['Id'].astype(str) == id].shape[0] > 0):\n",
    "        temp = 2020\n",
    "        if(temp < min):\n",
    "            min = temp\n",
    "        if(temp > max):\n",
    "            max = temp\n",
    "\n",
    "    if (df_2021[df_2021['Id'].astype(str) == id].shape[0] > 0):\n",
    "        temp = 2021\n",
    "        if(temp < min):\n",
    "            min = temp\n",
    "        if(temp > max):\n",
    "            max = temp\n",
    "\n",
    "    \n",
    "    start_year.append(min)\n",
    "    end_year.append(max)\n",
    "    work_year.append(max - min)\n",
    "    if(max == 0 or min == 9999):\n",
    "        missing += 1 "
   ]
  },
  {
   "cell_type": "code",
   "execution_count": 11,
   "metadata": {},
   "outputs": [
    {
     "name": "stdout",
     "output_type": "stream",
     "text": [
      "615  Faculty members not assigned with start_year or end_year\n",
      "     Id                  Name  PersonId                    Department  \\\n",
      "0  1485   BALAKRISHNAN, HAMSA      6622  Aeronautics and Astronautics   \n",
      "1  2030  BARRETT, STEVEN R. H    412239  Aeronautics and Astronautics   \n",
      "2  2190     BELOBABA, PETER P    287096  Aeronautics and Astronautics   \n",
      "3  2695     BINZEL, RICHARD P     10148  Aeronautics and Astronautics   \n",
      "4  4030          CAHOY, KERRI    488061  Aeronautics and Astronautics   \n",
      "\n",
      "    RankName  TotalArticleCount  TotalConfProcCount  TotalGrantCount  \\\n",
      "0  Professor                 46                  63               15   \n",
      "1  Associate                 87                   7               11   \n",
      "2      Other                 24                   2                0   \n",
      "3  Professor                163                  13               23   \n",
      "4  Associate                 47                  72               45   \n",
      "\n",
      "   TotalGrantDollars  TotalAwardCount  TotalCitationCount  TotalBookCount  \\\n",
      "0                  0                4                1477               1   \n",
      "1                  0                1                2381               1   \n",
      "2                  0                1                 303              20   \n",
      "3                  0                3                5523               5   \n",
      "4                  0                2                 777               1   \n",
      "\n",
      "   TotalPatentCount  Gender  Accuracy_Gender  Total_Samples_Gender  Matched  \\\n",
      "0                 1  female               57                   431        1   \n",
      "1                 1    male               99                 59951        1   \n",
      "2                 0    male               99                146529        1   \n",
      "3                 0    male               99                 97659        1   \n",
      "4                 8  female               98                  1836        1   \n",
      "\n",
      "   Start_year  End_year  Work_year  \n",
      "0        2004      2021         17  \n",
      "1        2005      2021         16  \n",
      "2        2004      2021         17  \n",
      "3        2004      2021         17  \n",
      "4        2006      2021         15  \n"
     ]
    }
   ],
   "source": [
    "print(missing,  \" Faculty members not assigned with start_year or end_year\")\n",
    "df_prof['Start_year'] = start_year\n",
    "df_prof['End_year'] = end_year\n",
    "df_prof['Work_year'] = work_year\n",
    "print(df_prof.head())"
   ]
  },
  {
   "cell_type": "code",
   "execution_count": 12,
   "metadata": {},
   "outputs": [
    {
     "name": "stdout",
     "output_type": "stream",
     "text": [
      "(2015, 20)\n",
      "(1400, 20)\n",
      "(1282, 20)\n",
      "(118, 20)\n",
      "25718\n"
     ]
    }
   ],
   "source": [
    "df_prof2 = df_prof[df_prof['Start_year'] != 9999]\n",
    "df_old_prof = df_prof2[df_prof2['Start_year'] <= 2011]\n",
    "df_new_prof = df_prof2[df_prof2['Start_year'] > 2011]\n",
    "\n",
    "print(df_prof.shape)\n",
    "print(df_prof2.shape)\n",
    "print(df_old_prof.shape)\n",
    "print(df_new_prof.shape)\n",
    "print(df_prof['TotalConfProcCount'].sum())"
   ]
  },
  {
   "cell_type": "code",
   "execution_count": 38,
   "metadata": {},
   "outputs": [
    {
     "name": "stdout",
     "output_type": "stream",
     "text": [
      "1357\n",
      "1357\n",
      "1357\n"
     ]
    }
   ],
   "source": [
    "dataset1 = df_prof[df_prof['Department'].notnull()]\n",
    "num = len(dataset1)\n",
    "print(num)\n",
    "dataset2 = dataset1[dataset1['Gender'] != \"unknown\"]\n",
    "num = len(dataset2)\n",
    "print(num)\n",
    "dataset3 = df_prof[df_prof['RankName'].notnull()]\n",
    "num = len(dataset3)\n",
    "print(num)\n",
    "\n"
   ]
  },
  {
   "cell_type": "code",
   "execution_count": 41,
   "metadata": {},
   "outputs": [
    {
     "name": "stdout",
     "output_type": "stream",
     "text": [
      "688\n",
      "235\n",
      "246\n",
      "187\n",
      "1\n"
     ]
    }
   ],
   "source": [
    "# ['Professor' 'Associate' 'Other' 'Assistant' 'Lecturer']\n",
    "df_professor = dataset3[dataset3['RankName'] == \"Professor\"]\n",
    "print(len(df_professor))\n",
    "\n",
    "df_associate = dataset3[dataset3['RankName'] == \"Associate\"]\n",
    "print(len(df_associate))\n",
    "\n",
    "df_other = dataset3[dataset3['RankName'] == \"Other\"]\n",
    "print(len(df_other))\n",
    "\n",
    "df_assistant = dataset3[dataset3['RankName'] == \"Assistant\"]\n",
    "print(len(df_assistant))\n",
    "\n",
    "df_lecturer = dataset3[dataset3['RankName'] == \"Lecturer\"]\n",
    "print(len(df_lecturer))"
   ]
  },
  {
   "cell_type": "code",
   "execution_count": 15,
   "metadata": {},
   "outputs": [],
   "source": [
    "genders = []\n",
    "departments = []\n",
    "for author_id in df_patents_nonan['Author_Id'].astype(str).tolist():\n",
    "    gender = df_prof['Gender'][df_prof['Id'].astype(str) == author_id].tolist()[0]\n",
    "    department = df_prof['Department'][df_prof['Id'].astype(str).fillna('') == author_id].tolist()[0]\n",
    "    genders.append(gender)\n",
    "    departments.append(department)\n",
    "\n",
    "df_patents_nonan['Gender'] = genders\n",
    "df_patents_nonan['Department'] = departments\n",
    "\n",
    "df_patents_nonan['Gender'] = df_patents_nonan['Gender'].astype(str)\n",
    "df_patents_nonan['Department'] = df_patents_nonan['Department'].astype(str)"
   ]
  },
  {
   "cell_type": "code",
   "execution_count": 17,
   "metadata": {},
   "outputs": [],
   "source": [
    "def match_gender2(df):\n",
    "    genders = []\n",
    "\n",
    "    for author_id in df['Author_Id'].astype(str).tolist():\n",
    "        gender = df_prof['Gender'][df_prof['Id'].astype(str) == author_id].tolist()[0]\n",
    "        \n",
    "        genders.append(gender)\n",
    "        \n",
    "\n",
    "    df['Gender'] = genders\n",
    "    return df\n",
    "\n",
    "\n",
    "#df_articles = pd.read_csv('new_data/articles.csv')\n",
    "#df_proceedings = pd.read_csv('new_data/proc.csv')\n",
    "\n",
    "df_articles = match_gender2(df_articles)\n",
    "df_proceedings = match_gender2(df_proceedings)"
   ]
  },
  {
   "cell_type": "code",
   "execution_count": 19,
   "metadata": {},
   "outputs": [
    {
     "name": "stdout",
     "output_type": "stream",
     "text": [
      "10923\n",
      "   Unnamed: 0    Id                 Name  PersonId  \\\n",
      "0           0  1485  BALAKRISHNAN, HAMSA      6622   \n",
      "1           1  1485  BALAKRISHNAN, HAMSA      6622   \n",
      "2           2  1485  BALAKRISHNAN, HAMSA      6622   \n",
      "3           3  1485  BALAKRISHNAN, HAMSA      6622   \n",
      "4           4  1485  BALAKRISHNAN, HAMSA      6622   \n",
      "\n",
      "                     Department   RankName  TotalArticleCount  \\\n",
      "0  Aeronautics and Astronautics  Professor                 46   \n",
      "1  Aeronautics and Astronautics  Professor                 46   \n",
      "2  Aeronautics and Astronautics  Professor                 46   \n",
      "3  Aeronautics and Astronautics  Professor                 46   \n",
      "4  Aeronautics and Astronautics  Professor                 46   \n",
      "\n",
      "   TotalConfProcCount  TotalGrantCount  TotalGrantDollars  ...  \\\n",
      "0                  63               15                  0  ...   \n",
      "1                  63               15                  0  ...   \n",
      "2                  63               15                  0  ...   \n",
      "3                  63               15                  0  ...   \n",
      "4                  63               15                  0  ...   \n",
      "\n",
      "   TotalBookCount  TotalPatentCount  Gender  Accuracy_Gender  \\\n",
      "0               1                 1  female               57   \n",
      "1               1                 1  female               57   \n",
      "2               1                 1  female               57   \n",
      "3               1                 1  female               57   \n",
      "4               1                 1  female               57   \n",
      "\n",
      "  Total_Samples_Gender  Matched  LastName  FirstName        Collaborations  \\\n",
      "0                  431        1       NaN        NaN  2020|2030|2020|2035|   \n",
      "1                  431        1       NaN        NaN            1560|2030|   \n",
      "2                  431        1       NaN        NaN            1560|2030|   \n",
      "3                  431        1       NaN        NaN            1560|2030|   \n",
      "4                  431        1       NaN        NaN            1560|2030|   \n",
      "\n",
      "                           Department_MITCollab  \n",
      "0                  Aeronautics and Astronautics  \n",
      "1  Electrical Engineering and Computer Sciences  \n",
      "2                Health Sciences and Technology  \n",
      "3                                    Management  \n",
      "4                        Mechanical Engineering  \n",
      "\n",
      "[5 rows x 22 columns]\n"
     ]
    }
   ],
   "source": [
    "df_prof_dep_dup = pd.read_csv(\"new_data/MIT_Faculty_dup_gender.csv\")\n",
    "print(len(df_prof_dep_dup))\n",
    "print(df_prof_dep_dup.head())"
   ]
  },
  {
   "cell_type": "code",
   "execution_count": 20,
   "metadata": {},
   "outputs": [],
   "source": [
    "#list of datasets so far:\n",
    "# df_prof with 2015 faculty member, with fields... two data points with unknown starting year/ end_year\n",
    "# df_prof2 = with 1400 faculty members, with fields id name department.... patent, article, gender, excluding unknown starting year / end year\n",
    "# df_old_prof & df_new_prof used for deliverable 3, partitioned by start_year ><= 2011\n",
    "# df_prof_short & df_prof_long used for deliverable 3, partitioned by work_year ><= 10\n",
    "# dataset2 = with 1357 faculty member, equivalent to df_prof with faculty members with department == nan removed used for code from Deliverable 1\n",
    "# dataset3 = with 1357 faculty member, equivalent to df_prof with faculty members with rank name == nan removed used for code from Deliverable 3\n",
    "# df_professor, df_associate, df_other, df_assistant & df_lecturer are subsets of dataset3, partitioned based on faculty rank name\n",
    "# df_patents_nonan dataset of patents with verified uspto numbers + matching gender and department of inventor for deliverable 2\n",
    "# df_articles & df_proceedings = dataset of articles/ conference proceedings with matching gender for deliverable 2\n",
    "# df_prof_dep_dup, with 10923 samples, including duplicates of MIT faculty members. Used for per department analysis in key question 1. (if faculty member\n",
    "#               is in departments A and B, he/she will be included 2 times in this dataset, however within each department there are no duplicates)"
   ]
  },
  {
   "cell_type": "markdown",
   "metadata": {},
   "source": [
    "# Preliminary\n",
    "\n",
    "#### Total Gender Info"
   ]
  },
  {
   "cell_type": "code",
   "execution_count": 23,
   "metadata": {},
   "outputs": [
    {
     "name": "stdout",
     "output_type": "stream",
     "text": [
      "male      1544\n",
      "female     471\n",
      "Name: Gender, dtype: int64\n"
     ]
    }
   ],
   "source": [
    "#Gender_info = dataset2['Gender'].value_counts()\n",
    "Gender_info = df_prof['Gender'].value_counts()\n",
    "print(Gender_info)"
   ]
  },
  {
   "cell_type": "markdown",
   "metadata": {},
   "source": [
    "#### Total Article Count by gender"
   ]
  },
  {
   "cell_type": "code",
   "execution_count": 24,
   "metadata": {},
   "outputs": [
    {
     "name": "stdout",
     "output_type": "stream",
     "text": [
      "Gender\n",
      "female     28411\n",
      "male      102896\n",
      "Name: TotalArticleCount, dtype: int64\n",
      "Gender\n",
      "female    60.320594\n",
      "male      66.642487\n",
      "Name: TotalArticleCount, dtype: float64\n",
      "\n",
      "Bar graph: Article count per Gender\n",
      "\n"
     ]
    },
    {
     "data": {
      "image/png": "[encoded data removed]",
      "text/plain": [
       "<Figure size 432x288 with 1 Axes>"
      ]
     },
     "metadata": {
      "needs_background": "light"
     },
     "output_type": "display_data"
    }
   ],
   "source": [
    "# Total article counts by gender\n",
    "#Total_Article_by_gender_sum = dataset2.groupby('Gender')['TotalArticleCount'].sum()\n",
    "Total_Article_by_gender_sum = df_prof.groupby('Gender')['TotalArticleCount'].sum()\n",
    "print(Total_Article_by_gender_sum)\n",
    "\n",
    "# Mean of total article counts by gender\n",
    "#Total_Article_by_gender_mean = dataset2.groupby('Gender')['TotalArticleCount'].mean()\n",
    "Total_Article_by_gender_mean = df_prof.groupby('Gender')['TotalArticleCount'].mean()\n",
    "print(Total_Article_by_gender_mean)\n",
    "\n",
    "# bar graph plotting the mean\n",
    "print()\n",
    "print(\"Bar graph: Article count per Gender\")\n",
    "\n",
    "Total_Article_by_gender_mean.plot.bar()\n",
    "print()"
   ]
  },
  {
   "cell_type": "markdown",
   "metadata": {},
   "source": [
    "#### Total conference proceedings counts by gender"
   ]
  },
  {
   "cell_type": "code",
   "execution_count": 25,
   "metadata": {},
   "outputs": [
    {
     "name": "stdout",
     "output_type": "stream",
     "text": [
      "Gender\n",
      "female     5874\n",
      "male      19844\n",
      "Name: TotalConfProcCount, dtype: int64\n",
      "Gender\n",
      "female    12.471338\n",
      "male      12.852332\n",
      "Name: TotalConfProcCount, dtype: float64\n",
      "\n",
      "Bar graph: Conference proceedings count per Gender\n",
      "\n"
     ]
    },
    {
     "data": {
      "image/png": "[encoded data removed]",
      "text/plain": [
       "<Figure size 432x288 with 1 Axes>"
      ]
     },
     "metadata": {
      "needs_background": "light"
     },
     "output_type": "display_data"
    }
   ],
   "source": [
    "# Total conference proceedings counts by gender\n",
    "#Total_ConPro_by_gender_sum = dataset2.groupby('Gender')['TotalConfProcCount'].sum()\n",
    "Total_ConPro_by_gender_sum = df_prof.groupby('Gender')['TotalConfProcCount'].sum()\n",
    "print(Total_ConPro_by_gender_sum)\n",
    "\n",
    "# Mean of total conference proceedings counts by gender\n",
    "#Total_ConPro_by_gender_mean = dataset2.groupby('Gender')['TotalConfProcCount'].mean()\n",
    "Total_ConPro_by_gender_mean = df_prof.groupby('Gender')['TotalConfProcCount'].mean()\n",
    "print(Total_ConPro_by_gender_mean)\n",
    "\n",
    "# bar graph plotting the mean\n",
    "print()\n",
    "print(\"Bar graph: Conference proceedings count per Gender\")\n",
    "\n",
    "Total_ConPro_by_gender_mean.plot.bar()\n",
    "print()"
   ]
  },
  {
   "cell_type": "markdown",
   "metadata": {},
   "source": [
    "#### Total patent counts by gender using Data from MIT Collaboration"
   ]
  },
  {
   "cell_type": "code",
   "execution_count": 26,
   "metadata": {},
   "outputs": [
    {
     "name": "stdout",
     "output_type": "stream",
     "text": [
      "Gender\n",
      "female    1148\n",
      "male      4994\n",
      "Name: TotalPatentCount, dtype: int64\n",
      "Gender\n",
      "female    2.437367\n",
      "male      3.234456\n",
      "Name: TotalPatentCount, dtype: float64\n",
      "\n",
      "Bar graph: Patent count per Gender\n",
      "\n"
     ]
    },
    {
     "data": {
      "image/png": "[encoded data removed]",
      "text/plain": [
       "<Figure size 432x288 with 1 Axes>"
      ]
     },
     "metadata": {
      "needs_background": "light"
     },
     "output_type": "display_data"
    }
   ],
   "source": [
    "# Total patent counts by gender\n",
    "#Total_Patent_by_gender_sum = dataset2.groupby('Gender')['TotalPatentCount'].sum()\n",
    "Total_Patent_by_gender_sum = df_prof.groupby('Gender')['TotalPatentCount'].sum()\n",
    "print(Total_Patent_by_gender_sum)\n",
    "\n",
    "# Mean of total patent counts by gender\n",
    "#Total_Patent_by_gender_mean = dataset2.groupby('Gender')['TotalPatentCount'].mean()\n",
    "Total_Patent_by_gender_mean = df_prof.groupby('Gender')['TotalPatentCount'].mean()\n",
    "print(Total_Patent_by_gender_mean)\n",
    "\n",
    "# bar graph plotting the mean\n",
    "print()\n",
    "print(\"Bar graph: Patent count per Gender\")\n",
    "Total_Patent_by_gender_mean.plot.bar()\n",
    "print()"
   ]
  },
  {
   "cell_type": "markdown",
   "metadata": {},
   "source": [
    "#### Gender per Department"
   ]
  },
  {
   "cell_type": "code",
   "execution_count": 27,
   "metadata": {},
   "outputs": [
    {
     "data": {
      "image/png": "[encoded data removed]",
      "text/plain": [
       "<Figure size 1440x648 with 1 Axes>"
      ]
     },
     "metadata": {
      "needs_background": "light"
     },
     "output_type": "display_data"
    }
   ],
   "source": [
    "import numpy as np\n",
    "import matplotlib.pyplot as plt\n",
    "\n",
    "def plot_gender_by_department():\n",
    "    # please Note we are using dataset2 instead of df_prof here, this is because df_prof includes professors with unknown departments\n",
    "    X = dataset2['Department'].unique()\n",
    "    #print(X)\n",
    "\n",
    "    male = []\n",
    "    female = []\n",
    "\n",
    "    for dept in X:\n",
    "        df = dataset2[dataset2['Department'] == dept]\n",
    "    \n",
    "        group_male = df[df['Gender'] == 'male']\n",
    "        group_female = df[df['Gender'] == 'female']\n",
    "        male.append(group_male.shape[0])\n",
    "        female.append(group_female.shape[0])\n",
    "\n",
    "  \n",
    "\n",
    "    f = plt.figure()\n",
    "    f.set_figwidth(20)\n",
    "    f.set_figheight(9)\n",
    "\n",
    "    X_axis = np.arange(len(X))\n",
    "  \n",
    "    plt.bar(X_axis - 0.2, male, 0.4, label = 'Male')\n",
    "    plt.bar(X_axis + 0.2, female, 0.4, label = 'Female')\n",
    "\n",
    "\n",
    "    plt.xticks(X_axis, X, rotation = 90)\n",
    "    plt.xlabel(\"Departments\")\n",
    "    plt.ylabel(\"Number of Professors\")\n",
    "    plt.title(\"Number of Professors in each Department\")\n",
    "    plt.legend()\n",
    "\n",
    "    plt.show()\n",
    "\n",
    "plot_gender_by_department()\n",
    "\n"
   ]
  },
  {
   "cell_type": "markdown",
   "metadata": {},
   "source": [
    "#### Total number of patents and the average number of patents per professor for each gender after verifying with USPTO"
   ]
  },
  {
   "cell_type": "code",
   "execution_count": 28,
   "metadata": {},
   "outputs": [
    {
     "data": {
      "text/plain": [
       "Text(0, 0.5, 'Number of Patents')"
      ]
     },
     "execution_count": 28,
     "metadata": {},
     "output_type": "execute_result"
    },
    {
     "data": {
      "image/png": "[encoded data removed]",
      "text/plain": [
       "<Figure size 432x288 with 1 Axes>"
      ]
     },
     "metadata": {
      "needs_background": "light"
     },
     "output_type": "display_data"
    }
   ],
   "source": [
    "#start of prelim from deliverable 2\n",
    "plt.figure()\n",
    "sns.histplot(data=df_patents_nonan['Gender'])\n",
    "plt.title('Total Number of Patents')\n",
    "plt.ylabel('Number of Patents')"
   ]
  },
  {
   "cell_type": "code",
   "execution_count": 29,
   "metadata": {},
   "outputs": [
    {
     "data": {
      "text/plain": [
       "Text(0, 0.5, 'Number of Patents')"
      ]
     },
     "execution_count": 29,
     "metadata": {},
     "output_type": "execute_result"
    },
    {
     "data": {
      "image/png": "[encoded data removed]",
      "text/plain": [
       "<Figure size 432x288 with 1 Axes>"
      ]
     },
     "metadata": {
      "needs_background": "light"
     },
     "output_type": "display_data"
    }
   ],
   "source": [
    "gender_pat = df_patents_nonan['Gender'].value_counts()\n",
    "gender_prof = df_prof['Gender'].value_counts()\n",
    "\n",
    "plt.bar([1,0], (gender_pat / gender_prof).to_numpy(), tick_label=['male', 'female'])\n",
    "plt.title('Average Number of Patents per Professor')\n",
    "plt.ylabel('Number of Patents')"
   ]
  },
  {
   "cell_type": "markdown",
   "metadata": {},
   "source": [
    "We see a large disparity in total number of patents between the genders that gets smaller as we account for the number of professors for each gender, which matches our finding from deliverable 1.\n",
    "\n",
    "#### Total number of patents and the average number of patents per Department for each gender after verifying with USPTO"
   ]
  },
  {
   "cell_type": "code",
   "execution_count": 30,
   "metadata": {},
   "outputs": [],
   "source": [
    "# Drop professors without a department\n",
    "df_patents_department = df_patents_nonan[df_patents_nonan['Department'] != 'nan']\n",
    "\n",
    "n_patents_department = df_patents_department['Gender'].groupby(df_patents_department['Department']).value_counts().to_frame('N_Patents').reset_index()\n",
    "n_prof_department = df_prof['Gender'].groupby(df_prof['Department']).value_counts().to_frame('N_Prof').reset_index()\n",
    "\n",
    "for department in n_patents_department['Department'].unique():\n",
    "    for gender in ['male', 'female']:\n",
    "        n_prof = n_prof_department[(n_prof_department['Gender'] == gender) & (n_prof_department['Department'] == department)]['N_Prof']\n",
    "        ind = n_patents_department[(n_patents_department['Gender'] == gender) & (n_patents_department['Department'] == department)].index\n",
    "\n",
    "        if n_prof.empty:\n",
    "            n_patents_department.loc[ind, 'N_Patents_Prof'] = 0\n",
    "\n",
    "        else:\n",
    "            n_patent = n_patents_department[(n_patents_department['Gender'] == gender) & (n_patents_department['Department'] == department)]['N_Patents']\n",
    "\n",
    "            try:\n",
    "                n_patents_department.loc[ind, 'N_Patents_Prof'] = (n_patent.values / n_prof.values)[0]\n",
    "            except:\n",
    "                n_patents_department.loc[ind, 'N_Patents_Prof'] = 0"
   ]
  },
  {
   "cell_type": "code",
   "execution_count": 31,
   "metadata": {},
   "outputs": [
    {
     "data": {
      "text/plain": [
       "Text(0, 0.5, 'Average Number of Patents per Professor')"
      ]
     },
     "execution_count": 31,
     "metadata": {},
     "output_type": "execute_result"
    },
    {
     "data": {
      "image/png": "[encoded data removed]",
      "text/plain": [
       "<Figure size 2016x720 with 1 Axes>"
      ]
     },
     "metadata": {
      "needs_background": "light"
     },
     "output_type": "display_data"
    },
    {
     "data": {
      "image/png": "[encoded data removed]",
      "text/plain": [
       "<Figure size 2016x720 with 1 Axes>"
      ]
     },
     "metadata": {
      "needs_background": "light"
     },
     "output_type": "display_data"
    }
   ],
   "source": [
    "fig = plt.figure(figsize=(28, 10))\n",
    "sns.barplot(x='Department', y='N_Patents', hue='Gender', data=n_patents_department.sort_values('N_Patents'))\n",
    "plt.legend()\n",
    "plt.xticks(rotation = 90)\n",
    "plt.title('Total Number of Patents per Department')\n",
    "plt.ylabel('Number of Patents')\n",
    "\n",
    "fig = plt.figure(figsize=(28, 10))\n",
    "sns.barplot(x='Department', y='N_Patents_Prof', hue='Gender', data=n_patents_department.sort_values('N_Patents'))\n",
    "plt.legend()\n",
    "plt.xticks(rotation = 90)\n",
    "plt.title('Average Number of Patents per Department')\n",
    "plt.ylabel('Average Number of Patents per Professor')"
   ]
  },
  {
   "cell_type": "markdown",
   "metadata": {},
   "source": [
    "Several of the departments see female professors having an average number of patents matching or even higher than their male peers, notably Physics, Media Arts and Science, Nuclear Science and Engineering departments, which have female professors acquiring on average several times more patents than the male professors respectively. However, the large disparity occurs in most departments, with a number of departments having no patents for female professors.\n",
    "\n",
    "#### Total number of patents and fraction of total number of patents for each gender in each year to see if the disparity is changing over time."
   ]
  },
  {
   "cell_type": "code",
   "execution_count": 32,
   "metadata": {},
   "outputs": [
    {
     "data": {
      "text/plain": [
       "Text(0, 0.5, 'Number of Patents')"
      ]
     },
     "execution_count": 32,
     "metadata": {},
     "output_type": "execute_result"
    },
    {
     "data": {
      "image/png": "[encoded data removed]",
      "text/plain": [
       "<Figure size 1440x864 with 1 Axes>"
      ]
     },
     "metadata": {
      "needs_background": "light"
     },
     "output_type": "display_data"
    }
   ],
   "source": [
    "df_patents_nonan['Filing_Date'] = pd.to_datetime(df_patents_nonan['Filing_Date'])\n",
    "patents_year = df_patents_nonan['Gender'].groupby(df_patents_nonan['Filing_Date'].dt.year).value_counts().to_frame('N_Patents').reset_index()\n",
    "fig = plt.figure(figsize=(20, 12))\n",
    "sns.barplot(x='Filing_Date', y='N_Patents', hue='Gender', data=patents_year)\n",
    "plt.xlabel('Year')\n",
    "plt.ylabel('Number of Patents')"
   ]
  },
  {
   "cell_type": "code",
   "execution_count": 33,
   "metadata": {},
   "outputs": [
    {
     "name": "stdout",
     "output_type": "stream",
     "text": [
      "    Filing_Date  Gender  N_Patents\n",
      "0          1988    male   1.000000\n",
      "1          1991    male   1.000000\n",
      "2          1992    male   1.000000\n",
      "3          1993  female   0.500000\n",
      "4          1993    male   0.500000\n",
      "5          1994    male   0.800000\n",
      "6          1994  female   0.200000\n",
      "7          1995    male   0.764706\n",
      "8          1995  female   0.235294\n",
      "9          1996    male   0.900000\n",
      "10         1996  female   0.100000\n",
      "11         1997    male   1.000000\n",
      "12         1998    male   0.857143\n",
      "13         1998  female   0.142857\n",
      "14         1999    male   0.864865\n",
      "15         1999  female   0.135135\n",
      "16         2000    male   0.818182\n",
      "17         2000  female   0.181818\n",
      "18         2001    male   0.847458\n",
      "19         2001  female   0.152542\n",
      "20         2002    male   0.816901\n",
      "21         2002  female   0.183099\n",
      "22         2003    male   0.788889\n",
      "23         2003  female   0.211111\n",
      "24         2004    male   0.870130\n",
      "25         2004  female   0.129870\n",
      "26         2005    male   0.857143\n",
      "27         2005  female   0.142857\n",
      "28         2006    male   0.827068\n",
      "29         2006  female   0.172932\n",
      "30         2007    male   0.863636\n",
      "31         2007  female   0.136364\n",
      "32         2008    male   0.806202\n",
      "33         2008  female   0.193798\n",
      "34         2009    male   0.762846\n",
      "35         2009  female   0.237154\n",
      "36         2010    male   0.820896\n",
      "37         2010  female   0.179104\n",
      "38         2011    male   0.789954\n",
      "39         2011  female   0.210046\n",
      "40         2012    male   0.772000\n",
      "41         2012  female   0.228000\n",
      "42         2013    male   0.741538\n",
      "43         2013  female   0.258462\n",
      "44         2014    male   0.812834\n",
      "45         2014  female   0.187166\n",
      "46         2015    male   0.822785\n",
      "47         2015  female   0.177215\n",
      "48         2016    male   0.833333\n",
      "49         2016  female   0.166667\n",
      "50         2017    male   0.797834\n",
      "51         2017  female   0.202166\n",
      "52         2018    male   0.795833\n",
      "53         2018  female   0.204167\n",
      "54         2019    male   0.756757\n",
      "55         2019  female   0.243243\n",
      "56         2020    male   0.785714\n",
      "57         2020  female   0.214286\n"
     ]
    },
    {
     "data": {
      "image/png": "[encoded data removed]",
      "text/plain": [
       "<Figure size 1440x864 with 1 Axes>"
      ]
     },
     "metadata": {
      "needs_background": "light"
     },
     "output_type": "display_data"
    }
   ],
   "source": [
    "patents_year_norm = df_patents_nonan['Gender'].groupby(df_patents_nonan['Filing_Date'].dt.year).value_counts(normalize=True).to_frame('N_Patents').reset_index()\n",
    "fig = plt.figure(figsize=(20, 12))\n",
    "sns.barplot(x='Filing_Date', y='N_Patents', hue='Gender', data=patents_year_norm)\n",
    "plt.xlabel('Year')\n",
    "plt.ylabel('Fraction of Total Number of Patents')\n",
    "print(patents_year_norm)"
   ]
  },
  {
   "cell_type": "markdown",
   "metadata": {},
   "source": [
    "Here we see the disparity steadily decreasing from 2000 to 2010 and remaining roughly constant through 2011 to 2020. We have yet to acquire the working years of each professor in MIT so we cannot calculate the average number of patents per professor for each gender in each year, which might shed more light on how the disparity in gender has shifted over the year. Associated year for articles, conference proceedings and more patents will be scraped and analyzed to get a more complete picture.\n",
    "\n",
    "#### Comparison of patent count by gender between old and new faculty members\n"
   ]
  },
  {
   "cell_type": "code",
   "execution_count": 34,
   "metadata": {},
   "outputs": [
    {
     "name": "stdout",
     "output_type": "stream",
     "text": [
      "Gender\n",
      "female    1101\n",
      "male      4816\n",
      "Name: TotalPatentCount, dtype: int64\n",
      "Gender\n",
      "female     3\n",
      "male      12\n",
      "Name: TotalPatentCount, dtype: int64\n",
      "Gender\n",
      "female    3.657807\n",
      "male      4.909276\n",
      "Name: TotalPatentCount, dtype: float64\n",
      "Gender\n",
      "female    0.088235\n",
      "male      0.142857\n",
      "Name: TotalPatentCount, dtype: float64\n"
     ]
    },
    {
     "data": {
      "text/plain": [
       "<BarContainer object of 2 artists>"
      ]
     },
     "execution_count": 34,
     "metadata": {},
     "output_type": "execute_result"
    },
    {
     "data": {
      "image/png": "[encoded data removed]",
      "text/plain": [
       "<Figure size 720x360 with 2 Axes>"
      ]
     },
     "metadata": {
      "needs_background": "light"
     },
     "output_type": "display_data"
    }
   ],
   "source": [
    "# start of prelim of deliverable 3\n",
    "# Total patents counts by gender between old professors and new professors\n",
    "Total_Patent_by_gender_sum_Old= df_old_prof.groupby('Gender')['TotalPatentCount'].sum()\n",
    "print(Total_Patent_by_gender_sum_Old)\n",
    "Total_Patent_by_gender_sum_New = df_new_prof.groupby('Gender')['TotalPatentCount'].sum()\n",
    "print(Total_Patent_by_gender_sum_New)\n",
    "# Mean of total patents counts by gender between old professors and new professors\n",
    "Total_Patent_by_gender_mean_Old = df_old_prof.groupby('Gender')['TotalPatentCount'].mean()\n",
    "print(Total_Patent_by_gender_mean_Old)\n",
    "Total_Patent_by_gender_mean_New = df_new_prof.groupby('Gender')['TotalPatentCount'].mean()\n",
    "print(Total_Patent_by_gender_mean_New)\n",
    "\n",
    "gender =['female','male']\n",
    "fig, (ax1, ax2) = plt.subplots(1,2,figsize=(10,5))\n",
    "ax1.bar(gender, Total_Patent_by_gender_mean_Old)\n",
    "ax2.bar(gender, Total_Patent_by_gender_mean_New)"
   ]
  },
  {
   "cell_type": "markdown",
   "metadata": {},
   "source": [
    "#### Comparison of conference proceedings count by gender between old and new faculty members"
   ]
  },
  {
   "cell_type": "code",
   "execution_count": 35,
   "metadata": {},
   "outputs": [
    {
     "name": "stdout",
     "output_type": "stream",
     "text": [
      "Gender\n",
      "female     5147\n",
      "male      17675\n",
      "Name: TotalConfProcCount, dtype: int64\n",
      "Gender\n",
      "female    194\n",
      "male      363\n",
      "Name: TotalConfProcCount, dtype: int64\n",
      "Gender\n",
      "female    17.099668\n",
      "male      18.017329\n",
      "Name: TotalConfProcCount, dtype: float64\n",
      "Gender\n",
      "female    5.705882\n",
      "male      4.321429\n",
      "Name: TotalConfProcCount, dtype: float64\n"
     ]
    },
    {
     "data": {
      "text/plain": [
       "<BarContainer object of 2 artists>"
      ]
     },
     "execution_count": 35,
     "metadata": {},
     "output_type": "execute_result"
    },
    {
     "data": {
      "image/png": "[encoded data removed]",
      "text/plain": [
       "<Figure size 720x360 with 2 Axes>"
      ]
     },
     "metadata": {
      "needs_background": "light"
     },
     "output_type": "display_data"
    }
   ],
   "source": [
    "# Total conference proceedings counts by gender between old professors and new professors\n",
    "Total_ConPro_by_gender_sum_Old= df_old_prof.groupby('Gender')['TotalConfProcCount'].sum()\n",
    "print(Total_ConPro_by_gender_sum_Old)\n",
    "Total_ConPro_by_gender_sum_New = df_new_prof.groupby('Gender')['TotalConfProcCount'].sum()\n",
    "print(Total_ConPro_by_gender_sum_New)\n",
    "# Mean of total conference proceedings counts by gender between old professors and new professors\n",
    "Total_ConPro_by_gender_mean_Old = df_old_prof.groupby('Gender')['TotalConfProcCount'].mean()\n",
    "print(Total_ConPro_by_gender_mean_Old)\n",
    "Total_ConPro_by_gender_mean_New = df_new_prof.groupby('Gender')['TotalConfProcCount'].mean()\n",
    "print(Total_ConPro_by_gender_mean_New)\n",
    "\n",
    "gender =['female','male']\n",
    "fig, (ax1, ax2) = plt.subplots(1,2,figsize=(10,5))\n",
    "ax1.bar(gender, Total_ConPro_by_gender_mean_Old)\n",
    "ax2.bar(gender, Total_ConPro_by_gender_mean_New)"
   ]
  },
  {
   "cell_type": "markdown",
   "metadata": {},
   "source": [
    "#### Comparison of article count by gender between old and new faculty members"
   ]
  },
  {
   "cell_type": "code",
   "execution_count": 36,
   "metadata": {},
   "outputs": [
    {
     "name": "stdout",
     "output_type": "stream",
     "text": [
      "Gender\n",
      "female    23077\n",
      "male      88696\n",
      "Name: TotalArticleCount, dtype: int64\n",
      "Gender\n",
      "female    3156\n",
      "male      4526\n",
      "Name: TotalArticleCount, dtype: int64\n",
      "Gender\n",
      "female    76.667774\n",
      "male      90.413863\n",
      "Name: TotalArticleCount, dtype: float64\n",
      "Gender\n",
      "female    92.823529\n",
      "male      53.880952\n",
      "Name: TotalArticleCount, dtype: float64\n"
     ]
    },
    {
     "data": {
      "text/plain": [
       "<BarContainer object of 2 artists>"
      ]
     },
     "execution_count": 36,
     "metadata": {},
     "output_type": "execute_result"
    },
    {
     "data": {
      "image/png": "[encoded data removed]",
      "text/plain": [
       "<Figure size 720x360 with 2 Axes>"
      ]
     },
     "metadata": {
      "needs_background": "light"
     },
     "output_type": "display_data"
    }
   ],
   "source": [
    "# Total article counts by gender between old professors and new professors\n",
    "Total_Article_by_gender_sum_Old= df_old_prof.groupby('Gender')['TotalArticleCount'].sum()\n",
    "print(Total_Article_by_gender_sum_Old)\n",
    "Total_Article_by_gender_sum_New = df_new_prof.groupby('Gender')['TotalArticleCount'].sum()\n",
    "print(Total_Article_by_gender_sum_New)\n",
    "# Mean of total article counts by gender between old professors and new professors\n",
    "Total_Article_by_gender_mean_Old = df_old_prof.groupby('Gender')['TotalArticleCount'].mean()\n",
    "print(Total_Article_by_gender_mean_Old)\n",
    "Total_Article_by_gender_mean_New = df_new_prof.groupby('Gender')['TotalArticleCount'].mean()\n",
    "print(Total_Article_by_gender_mean_New)\n",
    "\n",
    "gender =['female','male']\n",
    "fig, (ax1, ax2) = plt.subplots(1,2,figsize=(10,5))\n",
    "ax1.bar(gender, Total_Article_by_gender_mean_Old)\n",
    "ax2.bar(gender, Total_Article_by_gender_mean_New)"
   ]
  },
  {
   "cell_type": "markdown",
   "metadata": {},
   "source": [
    "#### Overview of distribution of faculty members by ranking"
   ]
  },
  {
   "cell_type": "code",
   "execution_count": 43,
   "metadata": {},
   "outputs": [
    {
     "name": "stdout",
     "output_type": "stream",
     "text": [
      "['Professor' 'Associate' 'Other' 'Assistant' 'Lecturer']\n"
     ]
    },
    {
     "data": {
      "image/png": "[encoded data removed]",
      "text/plain": [
       "<Figure size 1440x648 with 1 Axes>"
      ]
     },
     "metadata": {
      "needs_background": "light"
     },
     "output_type": "display_data"
    }
   ],
   "source": [
    "unique_rankings = dataset3['RankName'].unique()\n",
    "print(unique_rankings)\n",
    "\n",
    "def plot_gender_by_ranking():\n",
    "    \n",
    "    X = dataset3['RankName'].unique()\n",
    "    #print(X)\n",
    "\n",
    "    male = []\n",
    "    female = []\n",
    "\n",
    "    for rank in X:\n",
    "        df = dataset3[dataset3['RankName'] == rank]\n",
    "    \n",
    "        group_male = df[df['Gender'] == 'male']\n",
    "        group_female = df[df['Gender'] == 'female']\n",
    "        male.append(group_male.shape[0])\n",
    "        female.append(group_female.shape[0])\n",
    "\n",
    "  \n",
    "\n",
    "    f = plt.figure()\n",
    "    f.set_figwidth(20)\n",
    "    f.set_figheight(9)\n",
    "\n",
    "    X_axis = np.arange(len(X))\n",
    "  \n",
    "    plt.bar(X_axis - 0.2, male, 0.4, label = 'Male')\n",
    "    plt.bar(X_axis + 0.2, female, 0.4, label = 'Female')\n",
    "\n",
    "\n",
    "    plt.xticks(X_axis, X, rotation = 90)\n",
    "    plt.xlabel(\"Rank\")\n",
    "    plt.ylabel(\"Number of Professors\")\n",
    "    plt.title(\"Number of Professors in each Rank\")\n",
    "    plt.legend()\n",
    "\n",
    "    plt.show()\n",
    "\n",
    "plot_gender_by_ranking()"
   ]
  },
  {
   "cell_type": "markdown",
   "metadata": {},
   "source": [
    "#### Comparison of patent count by gender between faculty members of different ranking\n",
    "# Note, new prelim stuff for ranking, please add graph and delete this note!"
   ]
  },
  {
   "cell_type": "code",
   "execution_count": 44,
   "metadata": {},
   "outputs": [
    {
     "name": "stdout",
     "output_type": "stream",
     "text": [
      "Gender\n",
      "female    5.544218\n",
      "male      6.637708\n",
      "Name: TotalPatentCount, dtype: float64\n",
      "Gender\n",
      "female    2.840580\n",
      "male      3.915663\n",
      "Name: TotalPatentCount, dtype: float64\n",
      "Gender\n",
      "female    1.160714\n",
      "male      2.289474\n",
      "Name: TotalPatentCount, dtype: float64\n",
      "Gender\n",
      "female    0.333333\n",
      "male      0.970588\n",
      "Name: TotalPatentCount, dtype: float64\n",
      "Gender\n",
      "male    0.0\n",
      "Name: TotalPatentCount, dtype: float64\n"
     ]
    }
   ],
   "source": [
    "# tpbgm = total patent by gender mean\n",
    "# Mean of total patent counts by gender for each ranking\n",
    "tpbgm_prof = df_professor.groupby('Gender')['TotalPatentCount'].mean()\n",
    "print(tpbgm_prof)\n",
    "\n",
    "tpbgm_associate = df_associate.groupby('Gender')['TotalPatentCount'].mean()\n",
    "print(tpbgm_associate)\n",
    "\n",
    "tpbgm_other = df_other.groupby('Gender')['TotalPatentCount'].mean()\n",
    "print(tpbgm_other)\n",
    "\n",
    "tpbgm_assistant = df_assistant.groupby('Gender')['TotalPatentCount'].mean()\n",
    "print(tpbgm_assistant)\n",
    "\n",
    "tpbgm_lec = df_lecturer.groupby('Gender')['TotalPatentCount'].mean()\n",
    "print(tpbgm_lec)\n",
    "\n",
    "\n"
   ]
  },
  {
   "cell_type": "markdown",
   "metadata": {},
   "source": [
    "#### Comparison of Conference Proceeding count by gender between faculty members of different ranking"
   ]
  },
  {
   "cell_type": "code",
   "execution_count": 45,
   "metadata": {},
   "outputs": [
    {
     "name": "stdout",
     "output_type": "stream",
     "text": [
      "Gender\n",
      "female    19.911565\n",
      "male      21.101664\n",
      "Name: TotalConfProcCount, dtype: float64\n",
      "Gender\n",
      "female    17.115942\n",
      "male      11.427711\n",
      "Name: TotalConfProcCount, dtype: float64\n",
      "Gender\n",
      "female    16.196429\n",
      "male      17.694737\n",
      "Name: TotalConfProcCount, dtype: float64\n",
      "Gender\n",
      "female    3.647059\n",
      "male      6.485294\n",
      "Name: TotalConfProcCount, dtype: float64\n",
      "Gender\n",
      "male    0.0\n",
      "Name: TotalConfProcCount, dtype: float64\n"
     ]
    }
   ],
   "source": [
    "# tcpbgm = total conference proceeding by gender mean\n",
    "# Mean of total conference proceeding counts by gender for each ranking\n",
    "tcpbgm_prof = df_professor.groupby('Gender')['TotalConfProcCount'].mean()\n",
    "print(tcpbgm_prof)\n",
    "\n",
    "tcpbgm_associate = df_associate.groupby('Gender')['TotalConfProcCount'].mean()\n",
    "print(tcpbgm_associate)\n",
    "\n",
    "tcpbgm_other = df_other.groupby('Gender')['TotalConfProcCount'].mean()\n",
    "print(tcpbgm_other)\n",
    "\n",
    "tcpbgm_assistant = df_assistant.groupby('Gender')['TotalConfProcCount'].mean()\n",
    "print(tcpbgm_assistant)\n",
    "\n",
    "tcpbgm_lec = df_lecturer.groupby('Gender')['TotalConfProcCount'].mean()\n",
    "print(tcpbgm_lec)"
   ]
  },
  {
   "cell_type": "markdown",
   "metadata": {},
   "source": [
    "#### Comparison of Article count by gender between faculty members of different ranking"
   ]
  },
  {
   "cell_type": "markdown",
   "metadata": {},
   "source": [
    "# Key question 1:\n",
    "## Is there a statistically significant disparity by gender in patents, papers, and/or conference proceedings relative to the representation in each department or overall at MIT?"
   ]
  },
  {
   "cell_type": "code",
   "execution_count": 47,
   "metadata": {},
   "outputs": [],
   "source": [
    "department_list = df_prof_dep_dup['Department_MITCollab'].unique()\n",
    "fields_of_interest = ['TotalPatentCount', 'TotalArticleCount', 'TotalConfProcCount']\n",
    "#import researchpy as rp\n",
    "import scipy.stats as stats\n",
    "# testing at Confidence level 95%\n",
    "alpha = 0.05"
   ]
  },
  {
   "cell_type": "markdown",
   "metadata": {},
   "source": [
    "### Test on disparity by gender overall and by Departments on patents, papers and conference proceedings"
   ]
  },
  {
   "cell_type": "code",
   "execution_count": 48,
   "metadata": {},
   "outputs": [],
   "source": [
    "#function that returns False if H0 is rejected, otherwise True\n",
    "# by default the progress boolean value is false so the function does not print its findings\n",
    "def t_test_on_field(df, progress = False):\n",
    "    all_field_result = []\n",
    "\n",
    "    for field in fields_of_interest:\n",
    "        if(progress):\n",
    "            print(\"Current field of interest is: \", field)\n",
    "    \n",
    "        \n",
    "        group_male = df[field][df['Gender'] == 'male']\n",
    "        group_female = df[field][df['Gender'] == 'female']\n",
    "        \n",
    "        #print(group_male.shape[0])\n",
    "        #print(group_female.shape[0])\n",
    "        \n",
    "        mnob = 0\n",
    "        mmean = 0\n",
    "        mvar = 0\n",
    "        fnob = 0\n",
    "        fmean = 0\n",
    "        fvar = 0\n",
    "        \n",
    "        if (group_male.shape[0] > 0):\n",
    "            mnob, _ , mmean, mvar, _, _ = stats.describe(group_male)\n",
    "        \n",
    "        if (group_female.shape[0] > 0):\n",
    "            fnob, _ , fmean, fvar, _, _ = stats.describe(group_female)\n",
    "    \n",
    "        \n",
    "        mstd = mvar ** 0.5\n",
    "        fstd = fvar ** 0.5\n",
    "        \n",
    "        # a flag bit, 1 if male mean is higher and 0 if vice versa\n",
    "        higher_bit = 0\n",
    "        if mmean > fmean:\n",
    "            higher_bit = 1\n",
    "    \n",
    "        _, pv = stats.levene(group_male,\n",
    "                 group_female,\n",
    "                 center= 'mean')\n",
    "        \n",
    "        if pv >= alpha:\n",
    "            # insignificant pv, identical variation\n",
    "            # t-test on H0: mean of male = mean of female\n",
    "            stat, p_value = stats.ttest_ind_from_stats( mean1= mmean, std1= mstd, nobs1= mnob,\n",
    "\n",
    "                                        mean2= fmean, std2= fstd, nobs2= fnob)\n",
    "            if p_value < alpha:\n",
    "                # t-test result reject H0, significantly different\n",
    "                all_field_result.append((False, higher_bit))\n",
    "                if(progress):\n",
    "                    print(\"Test result: False\")\n",
    "            else:\n",
    "                all_field_result.append((True, -1))\n",
    "                if(progress):\n",
    "                    print(\"Test result: True\")\n",
    "        else:\n",
    "            # significant pv, un-identical variation\n",
    "            # t-test on H0: mean of male = mean of female\n",
    "            stat, p_value = stats.ttest_ind_from_stats( mean1= mmean, std1= mstd, nobs1= mnob,\n",
    "\n",
    "                                        mean2= fmean, std2= fstd, nobs2= fnob, equal_var = False)\n",
    "            \n",
    "            if p_value < alpha:\n",
    "                # t-test result reject H0, significantly different\n",
    "                all_field_result.append((False, higher_bit))\n",
    "                if(progress):\n",
    "                    print(\"Test result: False\")\n",
    "            else:\n",
    "                all_field_result.append((True, -1))\n",
    "                if(progress):\n",
    "                    print(\"Test result: True\")\n",
    "    \n",
    "    total_points = df.shape[0]\n",
    "    warning = False\n",
    "    male_count = df[df['Gender'] == 'male'].shape[0]\n",
    "    female_count = df[df['Gender'] == 'female'].shape[0]\n",
    "    if (male_count == 0 or female_count == 0):\n",
    "        warning = True\n",
    "    \n",
    "    \n",
    "    return (all_field_result, total_points, warning)"
   ]
  },
  {
   "cell_type": "code",
   "execution_count": 51,
   "metadata": {},
   "outputs": [
    {
     "name": "stdout",
     "output_type": "stream",
     "text": [
      "([(True, -1), (True, -1), (True, -1)], 2015, False)\n"
     ]
    }
   ],
   "source": [
    "test_res_overall = t_test_on_field(df_prof)\n",
    "print(test_res_overall)"
   ]
  },
  {
   "cell_type": "code",
   "execution_count": 52,
   "metadata": {},
   "outputs": [],
   "source": [
    "# a function that runs the test above for each department\n",
    "# by default the progress boolean value is false so the function does not print its findings\n",
    "def t_test_per_dept(df, progress = False):\n",
    "    total_result = []\n",
    "    \n",
    "    for dept in department_list:\n",
    "        if(progress):\n",
    "            print(\"Current Department: \", dept)\n",
    "        \n",
    "        # chenge the following line to df2 = df[df[\"Department\"] == dept] to test on none-duplicate datasets\n",
    "        df2 = df[df[\"Department_MITCollab\"] == dept]\n",
    "\n",
    "        res = t_test_on_field(df2, progress)\n",
    "        total_result.append(res)\n",
    "        if(progress):\n",
    "            print()\n",
    "    return total_result"
   ]
  },
  {
   "cell_type": "code",
   "execution_count": 53,
   "metadata": {},
   "outputs": [
    {
     "name": "stdout",
     "output_type": "stream",
     "text": [
      "[([(True, -1), (True, -1), (True, -1)], 51, False), ([(True, -1), (True, -1), (True, -1)], 2015, False), ([(True, -1), (True, -1), (True, -1)], 2015, False), ([(True, -1), (True, -1), (True, -1)], 2015, False), ([(True, -1), (True, -1), (True, -1)], 2015, False), ([(True, -1), (True, -1), (True, -1)], 2015, False), ([(True, -1), (True, -1), (True, -1)], 68, False), ([(True, -1), (True, -1), (True, -1)], 45, False), ([(True, -1), (True, -1), (True, -1)], 29, False), ([(True, -1), (True, -1), (True, -1)], 10, False), ([(True, -1), (True, -1), (True, -1)], 9, False), ([(True, -1), (False, 1), (True, -1)], 39, False), ([(True, -1), (True, -1), (True, -1)], 39, False), ([(True, -1), (True, -1), (True, -1)], 36, False), ([(True, -1), (True, -1), (True, -1)], 42, False), ([(False, 1), (False, 1), (False, 1)], 71, False), ([(True, -1), (True, -1), (True, -1)], 41, False), ([(False, 1), (True, -1), (False, 1)], 42, False), ([(True, -1), (True, -1), (True, -1)], 35, False), ([(True, -1), (True, -1), (False, 1)], 53, False), ([(True, -1), (True, -1), (True, -1)], 43, False), ([(False, 1), (True, -1), (True, -1)], 65, False), ([(True, -1), (True, -1), (True, -1)], 25, False), ([(True, -1), (True, -1), (True, -1)], 32, False), ([(True, -1), (True, -1), (True, -1)], 34, False), ([(True, -1), (True, -1), (True, -1)], 22, False), ([(True, -1), (True, -1), (True, -1)], 17, False)]\n"
     ]
    },
    {
     "name": "stderr",
     "output_type": "stream",
     "text": [
      "C:\\Users\\SamuelFu\\Anaconda3\\lib\\site-packages\\scipy\\stats\\morestats.py:2603: RuntimeWarning: invalid value encountered in double_scalars\n",
      "  W = numer / denom\n"
     ]
    }
   ],
   "source": [
    "test_res_per_dept = t_test_per_dept(df_prof_dep_dup)\n",
    "print(test_res_per_dept)"
   ]
  },
  {
   "cell_type": "markdown",
   "metadata": {},
   "source": [
    "#### Summary and Interpretation of the results!"
   ]
  },
  {
   "cell_type": "code",
   "execution_count": 54,
   "metadata": {},
   "outputs": [],
   "source": [
    "def single_summary_decoder(results):\n",
    "    num = results[1]\n",
    "    warning = results[2]\n",
    "    print(\"There were \", num, \"independent data points in this set\")\n",
    "    print()\n",
    "    if warning:\n",
    "        print(\"There was either 0 Male or 0 Female in this given subset, therefore the comparison result is invalid\")\n",
    "    else:\n",
    "        \n",
    "        for i in range(len(fields_of_interest)):\n",
    "            #function that returns False if H0 is rejected, otherwise True\n",
    "            res = results[0][i][0]\n",
    "            print(\"For \", fields_of_interest[i], \" the result is: \", res)\n",
    "            print()\n",
    "            if res:\n",
    "                #res = true, H0 fail to reject\n",
    "                print(\"This meant that at alpha = \", alpha, \", we failed to reject the Null Hypothesis\")\n",
    "                print(\"Conclusion: \")\n",
    "                print(\"We don't have evidence to prove that the there is a significant disparity\", \n",
    "                      \" by gender in \", fields_of_interest[i], \" relative to the representation\")\n",
    "                \n",
    "            else:\n",
    "                #res = false, H0 is rejected\n",
    "                print(\"This meant that at alpha = \", alpha, \", we reject the Null Hypothesis and accept the Alternative Hypothesis\")\n",
    "                print(\"Conclusion: \")\n",
    "                if(results[0][i][1] == 0):\n",
    "                    print(\"There is a significant disparity\", \n",
    "                          \" by gender in \", fields_of_interest[i], \" relative to the representation.\",\n",
    "                         \" In this specific test, the mean of female is statistically significantly greater than\", \n",
    "                         \" the mean of male.\")\n",
    "                elif(results[0][i][1] == 1):\n",
    "                    print(\"There is a significant disparity\", \n",
    "                          \" by gender in \", fields_of_interest[i], \" relative to the representation.\",\n",
    "                         \" In this specific test, the mean of male is statistically significantly greater than\", \n",
    "                         \" the mean of female.\")\n",
    "                else:\n",
    "                    print(\"ERROR: undefined behavior\")\n",
    "                    \n",
    "            print()\n",
    "            print()\n",
    "\n",
    "\n",
    "def all_dept_decoder(results):\n",
    "    for i in range(len(department_list)):\n",
    "        print(\"For department: \", department_list[i], \" the result are: \")\n",
    "        print()\n",
    "        single_summary_decoder(results[i])\n",
    "        \n",
    "        print()\n",
    "        print(\"************************************************************************************************\")\n",
    "        print()\n",
    "        print()"
   ]
  },
  {
   "cell_type": "code",
   "execution_count": 55,
   "metadata": {},
   "outputs": [
    {
     "name": "stdout",
     "output_type": "stream",
     "text": [
      "There were  2015 independent data points in this set\n",
      "\n",
      "For  TotalPatentCount  the result is:  True\n",
      "\n",
      "This meant that at alpha =  0.05 , we failed to reject the Null Hypothesis\n",
      "Conclusion: \n",
      "We don't have evidence to prove that the there is a significant disparity  by gender in  TotalPatentCount  relative to the representation\n",
      "\n",
      "\n",
      "For  TotalArticleCount  the result is:  True\n",
      "\n",
      "This meant that at alpha =  0.05 , we failed to reject the Null Hypothesis\n",
      "Conclusion: \n",
      "We don't have evidence to prove that the there is a significant disparity  by gender in  TotalArticleCount  relative to the representation\n",
      "\n",
      "\n",
      "For  TotalConfProcCount  the result is:  True\n",
      "\n",
      "This meant that at alpha =  0.05 , we failed to reject the Null Hypothesis\n",
      "Conclusion: \n",
      "We don't have evidence to prove that the there is a significant disparity  by gender in  TotalConfProcCount  relative to the representation\n",
      "\n",
      "\n"
     ]
    }
   ],
   "source": [
    "single_summary_decoder(test_res_overall)"
   ]
  },
  {
   "cell_type": "code",
   "execution_count": 56,
   "metadata": {},
   "outputs": [
    {
     "name": "stdout",
     "output_type": "stream",
     "text": [
      "For department:  Aeronautics and Astronautics  the result are: \n",
      "\n",
      "There were  51 independent data points in this set\n",
      "\n",
      "For  TotalPatentCount  the result is:  True\n",
      "\n",
      "This meant that at alpha =  0.05 , we failed to reject the Null Hypothesis\n",
      "Conclusion: \n",
      "We don't have evidence to prove that the there is a significant disparity  by gender in  TotalPatentCount  relative to the representation\n",
      "\n",
      "\n",
      "For  TotalArticleCount  the result is:  True\n",
      "\n",
      "This meant that at alpha =  0.05 , we failed to reject the Null Hypothesis\n",
      "Conclusion: \n",
      "We don't have evidence to prove that the there is a significant disparity  by gender in  TotalArticleCount  relative to the representation\n",
      "\n",
      "\n",
      "For  TotalConfProcCount  the result is:  True\n",
      "\n",
      "This meant that at alpha =  0.05 , we failed to reject the Null Hypothesis\n",
      "Conclusion: \n",
      "We don't have evidence to prove that the there is a significant disparity  by gender in  TotalConfProcCount  relative to the representation\n",
      "\n",
      "\n",
      "\n",
      "************************************************************************************************\n",
      "\n",
      "\n",
      "For department:  Electrical Engineering and Computer Sciences  the result are: \n",
      "\n",
      "There were  2015 independent data points in this set\n",
      "\n",
      "For  TotalPatentCount  the result is:  True\n",
      "\n",
      "This meant that at alpha =  0.05 , we failed to reject the Null Hypothesis\n",
      "Conclusion: \n",
      "We don't have evidence to prove that the there is a significant disparity  by gender in  TotalPatentCount  relative to the representation\n",
      "\n",
      "\n",
      "For  TotalArticleCount  the result is:  True\n",
      "\n",
      "This meant that at alpha =  0.05 , we failed to reject the Null Hypothesis\n",
      "Conclusion: \n",
      "We don't have evidence to prove that the there is a significant disparity  by gender in  TotalArticleCount  relative to the representation\n",
      "\n",
      "\n",
      "For  TotalConfProcCount  the result is:  True\n",
      "\n",
      "This meant that at alpha =  0.05 , we failed to reject the Null Hypothesis\n",
      "Conclusion: \n",
      "We don't have evidence to prove that the there is a significant disparity  by gender in  TotalConfProcCount  relative to the representation\n",
      "\n",
      "\n",
      "\n",
      "************************************************************************************************\n",
      "\n",
      "\n",
      "For department:  Health Sciences and Technology  the result are: \n",
      "\n",
      "There were  2015 independent data points in this set\n",
      "\n",
      "For  TotalPatentCount  the result is:  True\n",
      "\n",
      "This meant that at alpha =  0.05 , we failed to reject the Null Hypothesis\n",
      "Conclusion: \n",
      "We don't have evidence to prove that the there is a significant disparity  by gender in  TotalPatentCount  relative to the representation\n",
      "\n",
      "\n",
      "For  TotalArticleCount  the result is:  True\n",
      "\n",
      "This meant that at alpha =  0.05 , we failed to reject the Null Hypothesis\n",
      "Conclusion: \n",
      "We don't have evidence to prove that the there is a significant disparity  by gender in  TotalArticleCount  relative to the representation\n",
      "\n",
      "\n",
      "For  TotalConfProcCount  the result is:  True\n",
      "\n",
      "This meant that at alpha =  0.05 , we failed to reject the Null Hypothesis\n",
      "Conclusion: \n",
      "We don't have evidence to prove that the there is a significant disparity  by gender in  TotalConfProcCount  relative to the representation\n",
      "\n",
      "\n",
      "\n",
      "************************************************************************************************\n",
      "\n",
      "\n",
      "For department:  Management  the result are: \n",
      "\n",
      "There were  2015 independent data points in this set\n",
      "\n",
      "For  TotalPatentCount  the result is:  True\n",
      "\n",
      "This meant that at alpha =  0.05 , we failed to reject the Null Hypothesis\n",
      "Conclusion: \n",
      "We don't have evidence to prove that the there is a significant disparity  by gender in  TotalPatentCount  relative to the representation\n",
      "\n",
      "\n",
      "For  TotalArticleCount  the result is:  True\n",
      "\n",
      "This meant that at alpha =  0.05 , we failed to reject the Null Hypothesis\n",
      "Conclusion: \n",
      "We don't have evidence to prove that the there is a significant disparity  by gender in  TotalArticleCount  relative to the representation\n",
      "\n",
      "\n",
      "For  TotalConfProcCount  the result is:  True\n",
      "\n",
      "This meant that at alpha =  0.05 , we failed to reject the Null Hypothesis\n",
      "Conclusion: \n",
      "We don't have evidence to prove that the there is a significant disparity  by gender in  TotalConfProcCount  relative to the representation\n",
      "\n",
      "\n",
      "\n",
      "************************************************************************************************\n",
      "\n",
      "\n",
      "For department:  Mechanical Engineering  the result are: \n",
      "\n",
      "There were  2015 independent data points in this set\n",
      "\n",
      "For  TotalPatentCount  the result is:  True\n",
      "\n",
      "This meant that at alpha =  0.05 , we failed to reject the Null Hypothesis\n",
      "Conclusion: \n",
      "We don't have evidence to prove that the there is a significant disparity  by gender in  TotalPatentCount  relative to the representation\n",
      "\n",
      "\n",
      "For  TotalArticleCount  the result is:  True\n",
      "\n",
      "This meant that at alpha =  0.05 , we failed to reject the Null Hypothesis\n",
      "Conclusion: \n",
      "We don't have evidence to prove that the there is a significant disparity  by gender in  TotalArticleCount  relative to the representation\n",
      "\n",
      "\n",
      "For  TotalConfProcCount  the result is:  True\n",
      "\n",
      "This meant that at alpha =  0.05 , we failed to reject the Null Hypothesis\n",
      "Conclusion: \n",
      "We don't have evidence to prove that the there is a significant disparity  by gender in  TotalConfProcCount  relative to the representation\n",
      "\n",
      "\n",
      "\n",
      "************************************************************************************************\n",
      "\n",
      "\n",
      "For department:  Physics  the result are: \n",
      "\n",
      "There were  2015 independent data points in this set\n",
      "\n",
      "For  TotalPatentCount  the result is:  True\n",
      "\n",
      "This meant that at alpha =  0.05 , we failed to reject the Null Hypothesis\n",
      "Conclusion: \n",
      "We don't have evidence to prove that the there is a significant disparity  by gender in  TotalPatentCount  relative to the representation\n",
      "\n",
      "\n",
      "For  TotalArticleCount  the result is:  True\n",
      "\n",
      "This meant that at alpha =  0.05 , we failed to reject the Null Hypothesis\n",
      "Conclusion: \n",
      "We don't have evidence to prove that the there is a significant disparity  by gender in  TotalArticleCount  relative to the representation\n",
      "\n",
      "\n",
      "For  TotalConfProcCount  the result is:  True\n",
      "\n",
      "This meant that at alpha =  0.05 , we failed to reject the Null Hypothesis\n",
      "Conclusion: \n",
      "We don't have evidence to prove that the there is a significant disparity  by gender in  TotalConfProcCount  relative to the representation\n",
      "\n",
      "\n",
      "\n",
      "************************************************************************************************\n",
      "\n",
      "\n",
      "For department:  Earth, Atmospheric and Planetary Sciences  the result are: \n",
      "\n",
      "There were  68 independent data points in this set\n",
      "\n",
      "For  TotalPatentCount  the result is:  True\n",
      "\n",
      "This meant that at alpha =  0.05 , we failed to reject the Null Hypothesis\n",
      "Conclusion: \n",
      "We don't have evidence to prove that the there is a significant disparity  by gender in  TotalPatentCount  relative to the representation\n",
      "\n",
      "\n",
      "For  TotalArticleCount  the result is:  True\n",
      "\n",
      "This meant that at alpha =  0.05 , we failed to reject the Null Hypothesis\n",
      "Conclusion: \n",
      "We don't have evidence to prove that the there is a significant disparity  by gender in  TotalArticleCount  relative to the representation\n",
      "\n",
      "\n",
      "For  TotalConfProcCount  the result is:  True\n",
      "\n",
      "This meant that at alpha =  0.05 , we failed to reject the Null Hypothesis\n",
      "Conclusion: \n",
      "We don't have evidence to prove that the there is a significant disparity  by gender in  TotalConfProcCount  relative to the representation\n",
      "\n",
      "\n",
      "\n",
      "************************************************************************************************\n",
      "\n",
      "\n",
      "For department:  Engineering System Divisions  the result are: \n",
      "\n",
      "There were  45 independent data points in this set\n",
      "\n",
      "For  TotalPatentCount  the result is:  True\n",
      "\n",
      "This meant that at alpha =  0.05 , we failed to reject the Null Hypothesis\n",
      "Conclusion: \n",
      "We don't have evidence to prove that the there is a significant disparity  by gender in  TotalPatentCount  relative to the representation\n",
      "\n",
      "\n",
      "For  TotalArticleCount  the result is:  True\n",
      "\n",
      "This meant that at alpha =  0.05 , we failed to reject the Null Hypothesis\n",
      "Conclusion: \n",
      "We don't have evidence to prove that the there is a significant disparity  by gender in  TotalArticleCount  relative to the representation\n",
      "\n",
      "\n",
      "For  TotalConfProcCount  the result is:  True\n",
      "\n",
      "This meant that at alpha =  0.05 , we failed to reject the Null Hypothesis\n",
      "Conclusion: \n",
      "We don't have evidence to prove that the there is a significant disparity  by gender in  TotalConfProcCount  relative to the representation\n",
      "\n",
      "\n",
      "\n",
      "************************************************************************************************\n",
      "\n",
      "\n",
      "For department:  Media Arts and Sciences  the result are: \n",
      "\n",
      "There were  29 independent data points in this set\n",
      "\n",
      "For  TotalPatentCount  the result is:  True\n",
      "\n",
      "This meant that at alpha =  0.05 , we failed to reject the Null Hypothesis\n",
      "Conclusion: \n",
      "We don't have evidence to prove that the there is a significant disparity  by gender in  TotalPatentCount  relative to the representation\n",
      "\n",
      "\n",
      "For  TotalArticleCount  the result is:  True\n",
      "\n",
      "This meant that at alpha =  0.05 , we failed to reject the Null Hypothesis\n",
      "Conclusion: \n",
      "We don't have evidence to prove that the there is a significant disparity  by gender in  TotalArticleCount  relative to the representation\n",
      "\n",
      "\n",
      "For  TotalConfProcCount  the result is:  True\n",
      "\n",
      "This meant that at alpha =  0.05 , we failed to reject the Null Hypothesis\n",
      "Conclusion: \n",
      "We don't have evidence to prove that the there is a significant disparity  by gender in  TotalConfProcCount  relative to the representation\n",
      "\n",
      "\n",
      "\n",
      "************************************************************************************************\n",
      "\n",
      "\n",
      "For department:  Anthropology  the result are: \n",
      "\n",
      "There were  10 independent data points in this set\n",
      "\n",
      "For  TotalPatentCount  the result is:  True\n",
      "\n",
      "This meant that at alpha =  0.05 , we failed to reject the Null Hypothesis\n",
      "Conclusion: \n",
      "We don't have evidence to prove that the there is a significant disparity  by gender in  TotalPatentCount  relative to the representation\n",
      "\n",
      "\n",
      "For  TotalArticleCount  the result is:  True\n",
      "\n",
      "This meant that at alpha =  0.05 , we failed to reject the Null Hypothesis\n",
      "Conclusion: \n",
      "We don't have evidence to prove that the there is a significant disparity  by gender in  TotalArticleCount  relative to the representation\n",
      "\n",
      "\n",
      "For  TotalConfProcCount  the result is:  True\n",
      "\n",
      "This meant that at alpha =  0.05 , we failed to reject the Null Hypothesis\n",
      "Conclusion: \n",
      "We don't have evidence to prove that the there is a significant disparity  by gender in  TotalConfProcCount  relative to the representation\n",
      "\n",
      "\n",
      "\n",
      "************************************************************************************************\n",
      "\n",
      "\n",
      "For department:  Foreign Languages and Literatures  the result are: \n",
      "\n",
      "There were  9 independent data points in this set\n",
      "\n",
      "For  TotalPatentCount  the result is:  True\n",
      "\n",
      "This meant that at alpha =  0.05 , we failed to reject the Null Hypothesis\n",
      "Conclusion: \n",
      "We don't have evidence to prove that the there is a significant disparity  by gender in  TotalPatentCount  relative to the representation\n",
      "\n",
      "\n",
      "For  TotalArticleCount  the result is:  True\n",
      "\n",
      "This meant that at alpha =  0.05 , we failed to reject the Null Hypothesis\n",
      "Conclusion: \n",
      "We don't have evidence to prove that the there is a significant disparity  by gender in  TotalArticleCount  relative to the representation\n",
      "\n",
      "\n",
      "For  TotalConfProcCount  the result is:  True\n",
      "\n",
      "This meant that at alpha =  0.05 , we failed to reject the Null Hypothesis\n",
      "Conclusion: \n",
      "We don't have evidence to prove that the there is a significant disparity  by gender in  TotalConfProcCount  relative to the representation\n",
      "\n",
      "\n",
      "\n",
      "************************************************************************************************\n",
      "\n",
      "\n",
      "For department:  Architecture  the result are: \n",
      "\n",
      "There were  39 independent data points in this set\n",
      "\n",
      "For  TotalPatentCount  the result is:  True\n",
      "\n",
      "This meant that at alpha =  0.05 , we failed to reject the Null Hypothesis\n",
      "Conclusion: \n",
      "We don't have evidence to prove that the there is a significant disparity  by gender in  TotalPatentCount  relative to the representation\n",
      "\n",
      "\n",
      "For  TotalArticleCount  the result is:  False\n",
      "\n",
      "This meant that at alpha =  0.05 , we reject the Null Hypothesis and accept the Alternative Hypothesis\n",
      "Conclusion: \n",
      "There is a significant disparity  by gender in  TotalArticleCount  relative to the representation.  In this specific test, the mean of male is statistically significantly greater than  the mean of female.\n",
      "\n",
      "\n",
      "For  TotalConfProcCount  the result is:  True\n",
      "\n",
      "This meant that at alpha =  0.05 , we failed to reject the Null Hypothesis\n",
      "Conclusion: \n",
      "We don't have evidence to prove that the there is a significant disparity  by gender in  TotalConfProcCount  relative to the representation\n",
      "\n",
      "\n",
      "\n",
      "************************************************************************************************\n",
      "\n",
      "\n",
      "For department:  Civil and Environmental Engineering  the result are: \n",
      "\n",
      "There were  39 independent data points in this set\n",
      "\n",
      "For  TotalPatentCount  the result is:  True\n",
      "\n",
      "This meant that at alpha =  0.05 , we failed to reject the Null Hypothesis\n",
      "Conclusion: \n",
      "We don't have evidence to prove that the there is a significant disparity  by gender in  TotalPatentCount  relative to the representation\n",
      "\n",
      "\n",
      "For  TotalArticleCount  the result is:  True\n",
      "\n",
      "This meant that at alpha =  0.05 , we failed to reject the Null Hypothesis\n",
      "Conclusion: \n",
      "We don't have evidence to prove that the there is a significant disparity  by gender in  TotalArticleCount  relative to the representation\n",
      "\n",
      "\n",
      "For  TotalConfProcCount  the result is:  True\n",
      "\n",
      "This meant that at alpha =  0.05 , we failed to reject the Null Hypothesis\n",
      "Conclusion: \n",
      "We don't have evidence to prove that the there is a significant disparity  by gender in  TotalConfProcCount  relative to the representation\n",
      "\n",
      "\n",
      "\n",
      "************************************************************************************************\n",
      "\n",
      "\n",
      "For department:  Urban Studies and Planning  the result are: \n",
      "\n",
      "There were  36 independent data points in this set\n",
      "\n",
      "For  TotalPatentCount  the result is:  True\n",
      "\n",
      "This meant that at alpha =  0.05 , we failed to reject the Null Hypothesis\n",
      "Conclusion: \n",
      "We don't have evidence to prove that the there is a significant disparity  by gender in  TotalPatentCount  relative to the representation\n",
      "\n",
      "\n",
      "For  TotalArticleCount  the result is:  True\n",
      "\n",
      "This meant that at alpha =  0.05 , we failed to reject the Null Hypothesis\n",
      "Conclusion: \n",
      "We don't have evidence to prove that the there is a significant disparity  by gender in  TotalArticleCount  relative to the representation\n",
      "\n",
      "\n",
      "For  TotalConfProcCount  the result is:  True\n",
      "\n",
      "This meant that at alpha =  0.05 , we failed to reject the Null Hypothesis\n",
      "Conclusion: \n",
      "We don't have evidence to prove that the there is a significant disparity  by gender in  TotalConfProcCount  relative to the representation\n",
      "\n",
      "\n",
      "\n",
      "************************************************************************************************\n",
      "\n",
      "\n",
      "For department:  Biological Engineering  the result are: \n",
      "\n",
      "There were  42 independent data points in this set\n",
      "\n",
      "For  TotalPatentCount  the result is:  True\n",
      "\n",
      "This meant that at alpha =  0.05 , we failed to reject the Null Hypothesis\n",
      "Conclusion: \n",
      "We don't have evidence to prove that the there is a significant disparity  by gender in  TotalPatentCount  relative to the representation\n",
      "\n",
      "\n",
      "For  TotalArticleCount  the result is:  True\n",
      "\n",
      "This meant that at alpha =  0.05 , we failed to reject the Null Hypothesis\n",
      "Conclusion: \n",
      "We don't have evidence to prove that the there is a significant disparity  by gender in  TotalArticleCount  relative to the representation\n",
      "\n",
      "\n",
      "For  TotalConfProcCount  the result is:  True\n",
      "\n",
      "This meant that at alpha =  0.05 , we failed to reject the Null Hypothesis\n",
      "Conclusion: \n",
      "We don't have evidence to prove that the there is a significant disparity  by gender in  TotalConfProcCount  relative to the representation\n",
      "\n",
      "\n",
      "\n",
      "************************************************************************************************\n",
      "\n",
      "\n",
      "For department:  Biology  the result are: \n",
      "\n",
      "There were  71 independent data points in this set\n",
      "\n",
      "For  TotalPatentCount  the result is:  False\n",
      "\n",
      "This meant that at alpha =  0.05 , we reject the Null Hypothesis and accept the Alternative Hypothesis\n",
      "Conclusion: \n",
      "There is a significant disparity  by gender in  TotalPatentCount  relative to the representation.  In this specific test, the mean of male is statistically significantly greater than  the mean of female.\n",
      "\n",
      "\n",
      "For  TotalArticleCount  the result is:  False\n",
      "\n",
      "This meant that at alpha =  0.05 , we reject the Null Hypothesis and accept the Alternative Hypothesis\n",
      "Conclusion: \n",
      "There is a significant disparity  by gender in  TotalArticleCount  relative to the representation.  In this specific test, the mean of male is statistically significantly greater than  the mean of female.\n",
      "\n",
      "\n",
      "For  TotalConfProcCount  the result is:  False\n",
      "\n",
      "This meant that at alpha =  0.05 , we reject the Null Hypothesis and accept the Alternative Hypothesis\n",
      "Conclusion: \n",
      "There is a significant disparity  by gender in  TotalConfProcCount  relative to the representation.  In this specific test, the mean of male is statistically significantly greater than  the mean of female.\n",
      "\n",
      "\n",
      "\n",
      "************************************************************************************************\n",
      "\n",
      "\n",
      "For department:  Chemical Engineering  the result are: \n",
      "\n",
      "There were  41 independent data points in this set\n",
      "\n",
      "For  TotalPatentCount  the result is:  True\n",
      "\n",
      "This meant that at alpha =  0.05 , we failed to reject the Null Hypothesis\n",
      "Conclusion: \n",
      "We don't have evidence to prove that the there is a significant disparity  by gender in  TotalPatentCount  relative to the representation\n",
      "\n",
      "\n",
      "For  TotalArticleCount  the result is:  True\n",
      "\n",
      "This meant that at alpha =  0.05 , we failed to reject the Null Hypothesis\n",
      "Conclusion: \n",
      "We don't have evidence to prove that the there is a significant disparity  by gender in  TotalArticleCount  relative to the representation\n",
      "\n",
      "\n",
      "For  TotalConfProcCount  the result is:  True\n",
      "\n",
      "This meant that at alpha =  0.05 , we failed to reject the Null Hypothesis\n",
      "Conclusion: \n",
      "We don't have evidence to prove that the there is a significant disparity  by gender in  TotalConfProcCount  relative to the representation\n",
      "\n",
      "\n",
      "\n",
      "************************************************************************************************\n",
      "\n",
      "\n",
      "For department:  Chemistry  the result are: \n",
      "\n",
      "There were  42 independent data points in this set\n",
      "\n",
      "For  TotalPatentCount  the result is:  False\n",
      "\n",
      "This meant that at alpha =  0.05 , we reject the Null Hypothesis and accept the Alternative Hypothesis\n",
      "Conclusion: \n",
      "There is a significant disparity  by gender in  TotalPatentCount  relative to the representation.  In this specific test, the mean of male is statistically significantly greater than  the mean of female.\n",
      "\n",
      "\n",
      "For  TotalArticleCount  the result is:  True\n",
      "\n",
      "This meant that at alpha =  0.05 , we failed to reject the Null Hypothesis\n",
      "Conclusion: \n",
      "We don't have evidence to prove that the there is a significant disparity  by gender in  TotalArticleCount  relative to the representation\n",
      "\n",
      "\n",
      "For  TotalConfProcCount  the result is:  False\n",
      "\n",
      "This meant that at alpha =  0.05 , we reject the Null Hypothesis and accept the Alternative Hypothesis\n",
      "Conclusion: \n",
      "There is a significant disparity  by gender in  TotalConfProcCount  relative to the representation.  In this specific test, the mean of male is statistically significantly greater than  the mean of female.\n",
      "\n",
      "\n",
      "\n",
      "************************************************************************************************\n",
      "\n",
      "\n",
      "For department:  Nuclear Science and Engineering  the result are: \n",
      "\n",
      "There were  35 independent data points in this set\n",
      "\n",
      "For  TotalPatentCount  the result is:  True\n",
      "\n",
      "This meant that at alpha =  0.05 , we failed to reject the Null Hypothesis\n",
      "Conclusion: \n",
      "We don't have evidence to prove that the there is a significant disparity  by gender in  TotalPatentCount  relative to the representation\n",
      "\n",
      "\n",
      "For  TotalArticleCount  the result is:  True\n",
      "\n",
      "This meant that at alpha =  0.05 , we failed to reject the Null Hypothesis\n",
      "Conclusion: \n",
      "We don't have evidence to prove that the there is a significant disparity  by gender in  TotalArticleCount  relative to the representation\n",
      "\n",
      "\n",
      "For  TotalConfProcCount  the result is:  True\n",
      "\n",
      "This meant that at alpha =  0.05 , we failed to reject the Null Hypothesis\n",
      "Conclusion: \n",
      "We don't have evidence to prove that the there is a significant disparity  by gender in  TotalConfProcCount  relative to the representation\n",
      "\n",
      "\n",
      "\n",
      "************************************************************************************************\n",
      "\n",
      "\n",
      "For department:  Brain and Cognitive Sciences  the result are: \n",
      "\n",
      "There were  53 independent data points in this set\n",
      "\n",
      "For  TotalPatentCount  the result is:  True\n",
      "\n",
      "This meant that at alpha =  0.05 , we failed to reject the Null Hypothesis\n",
      "Conclusion: \n",
      "We don't have evidence to prove that the there is a significant disparity  by gender in  TotalPatentCount  relative to the representation\n",
      "\n",
      "\n",
      "For  TotalArticleCount  the result is:  True\n",
      "\n",
      "This meant that at alpha =  0.05 , we failed to reject the Null Hypothesis\n",
      "Conclusion: \n",
      "We don't have evidence to prove that the there is a significant disparity  by gender in  TotalArticleCount  relative to the representation\n",
      "\n",
      "\n",
      "For  TotalConfProcCount  the result is:  False\n",
      "\n",
      "This meant that at alpha =  0.05 , we reject the Null Hypothesis and accept the Alternative Hypothesis\n",
      "Conclusion: \n",
      "There is a significant disparity  by gender in  TotalConfProcCount  relative to the representation.  In this specific test, the mean of male is statistically significantly greater than  the mean of female.\n",
      "\n",
      "\n",
      "\n",
      "************************************************************************************************\n",
      "\n",
      "\n",
      "For department:  Economics  the result are: \n",
      "\n",
      "There were  43 independent data points in this set\n",
      "\n",
      "For  TotalPatentCount  the result is:  True\n",
      "\n",
      "This meant that at alpha =  0.05 , we failed to reject the Null Hypothesis\n",
      "Conclusion: \n",
      "We don't have evidence to prove that the there is a significant disparity  by gender in  TotalPatentCount  relative to the representation\n",
      "\n",
      "\n",
      "For  TotalArticleCount  the result is:  True\n",
      "\n",
      "This meant that at alpha =  0.05 , we failed to reject the Null Hypothesis\n",
      "Conclusion: \n",
      "We don't have evidence to prove that the there is a significant disparity  by gender in  TotalArticleCount  relative to the representation\n",
      "\n",
      "\n",
      "For  TotalConfProcCount  the result is:  True\n",
      "\n",
      "This meant that at alpha =  0.05 , we failed to reject the Null Hypothesis\n",
      "Conclusion: \n",
      "We don't have evidence to prove that the there is a significant disparity  by gender in  TotalConfProcCount  relative to the representation\n",
      "\n",
      "\n",
      "\n",
      "************************************************************************************************\n",
      "\n",
      "\n",
      "For department:  Mathematics  the result are: \n",
      "\n",
      "There were  65 independent data points in this set\n",
      "\n",
      "For  TotalPatentCount  the result is:  False\n",
      "\n",
      "This meant that at alpha =  0.05 , we reject the Null Hypothesis and accept the Alternative Hypothesis\n",
      "Conclusion: \n",
      "There is a significant disparity  by gender in  TotalPatentCount  relative to the representation.  In this specific test, the mean of male is statistically significantly greater than  the mean of female.\n",
      "\n",
      "\n",
      "For  TotalArticleCount  the result is:  True\n",
      "\n",
      "This meant that at alpha =  0.05 , we failed to reject the Null Hypothesis\n",
      "Conclusion: \n",
      "We don't have evidence to prove that the there is a significant disparity  by gender in  TotalArticleCount  relative to the representation\n",
      "\n",
      "\n",
      "For  TotalConfProcCount  the result is:  True\n",
      "\n",
      "This meant that at alpha =  0.05 , we failed to reject the Null Hypothesis\n",
      "Conclusion: \n",
      "We don't have evidence to prove that the there is a significant disparity  by gender in  TotalConfProcCount  relative to the representation\n",
      "\n",
      "\n",
      "\n",
      "************************************************************************************************\n",
      "\n",
      "\n",
      "For department:  Comparative Media Studies/Writing Program  the result are: \n",
      "\n",
      "There were  25 independent data points in this set\n",
      "\n",
      "For  TotalPatentCount  the result is:  True\n",
      "\n",
      "This meant that at alpha =  0.05 , we failed to reject the Null Hypothesis\n",
      "Conclusion: \n",
      "We don't have evidence to prove that the there is a significant disparity  by gender in  TotalPatentCount  relative to the representation\n",
      "\n",
      "\n",
      "For  TotalArticleCount  the result is:  True\n",
      "\n",
      "This meant that at alpha =  0.05 , we failed to reject the Null Hypothesis\n",
      "Conclusion: \n",
      "We don't have evidence to prove that the there is a significant disparity  by gender in  TotalArticleCount  relative to the representation\n",
      "\n",
      "\n",
      "For  TotalConfProcCount  the result is:  True\n",
      "\n",
      "This meant that at alpha =  0.05 , we failed to reject the Null Hypothesis\n",
      "Conclusion: \n",
      "We don't have evidence to prove that the there is a significant disparity  by gender in  TotalConfProcCount  relative to the representation\n",
      "\n",
      "\n",
      "\n",
      "************************************************************************************************\n",
      "\n",
      "\n",
      "For department:  Political Science  the result are: \n",
      "\n",
      "There were  32 independent data points in this set\n",
      "\n",
      "For  TotalPatentCount  the result is:  True\n",
      "\n",
      "This meant that at alpha =  0.05 , we failed to reject the Null Hypothesis\n",
      "Conclusion: \n",
      "We don't have evidence to prove that the there is a significant disparity  by gender in  TotalPatentCount  relative to the representation\n",
      "\n",
      "\n",
      "For  TotalArticleCount  the result is:  True\n",
      "\n",
      "This meant that at alpha =  0.05 , we failed to reject the Null Hypothesis\n",
      "Conclusion: \n",
      "We don't have evidence to prove that the there is a significant disparity  by gender in  TotalArticleCount  relative to the representation\n",
      "\n",
      "\n",
      "For  TotalConfProcCount  the result is:  True\n",
      "\n",
      "This meant that at alpha =  0.05 , we failed to reject the Null Hypothesis\n",
      "Conclusion: \n",
      "We don't have evidence to prove that the there is a significant disparity  by gender in  TotalConfProcCount  relative to the representation\n",
      "\n",
      "\n",
      "\n",
      "************************************************************************************************\n",
      "\n",
      "\n",
      "For department:  Linguistics and Philosophy  the result are: \n",
      "\n",
      "There were  34 independent data points in this set\n",
      "\n",
      "For  TotalPatentCount  the result is:  True\n",
      "\n",
      "This meant that at alpha =  0.05 , we failed to reject the Null Hypothesis\n",
      "Conclusion: \n",
      "We don't have evidence to prove that the there is a significant disparity  by gender in  TotalPatentCount  relative to the representation\n",
      "\n",
      "\n",
      "For  TotalArticleCount  the result is:  True\n",
      "\n",
      "This meant that at alpha =  0.05 , we failed to reject the Null Hypothesis\n",
      "Conclusion: \n",
      "We don't have evidence to prove that the there is a significant disparity  by gender in  TotalArticleCount  relative to the representation\n",
      "\n",
      "\n",
      "For  TotalConfProcCount  the result is:  True\n",
      "\n",
      "This meant that at alpha =  0.05 , we failed to reject the Null Hypothesis\n",
      "Conclusion: \n",
      "We don't have evidence to prove that the there is a significant disparity  by gender in  TotalConfProcCount  relative to the representation\n",
      "\n",
      "\n",
      "\n",
      "************************************************************************************************\n",
      "\n",
      "\n",
      "For department:  History  the result are: \n",
      "\n",
      "There were  22 independent data points in this set\n",
      "\n",
      "For  TotalPatentCount  the result is:  True\n",
      "\n",
      "This meant that at alpha =  0.05 , we failed to reject the Null Hypothesis\n",
      "Conclusion: \n",
      "We don't have evidence to prove that the there is a significant disparity  by gender in  TotalPatentCount  relative to the representation\n",
      "\n",
      "\n",
      "For  TotalArticleCount  the result is:  True\n",
      "\n",
      "This meant that at alpha =  0.05 , we failed to reject the Null Hypothesis\n",
      "Conclusion: \n",
      "We don't have evidence to prove that the there is a significant disparity  by gender in  TotalArticleCount  relative to the representation\n",
      "\n",
      "\n",
      "For  TotalConfProcCount  the result is:  True\n",
      "\n",
      "This meant that at alpha =  0.05 , we failed to reject the Null Hypothesis\n",
      "Conclusion: \n",
      "We don't have evidence to prove that the there is a significant disparity  by gender in  TotalConfProcCount  relative to the representation\n",
      "\n",
      "\n",
      "\n",
      "************************************************************************************************\n",
      "\n",
      "\n",
      "For department:  Literature  the result are: \n",
      "\n",
      "There were  17 independent data points in this set\n",
      "\n",
      "For  TotalPatentCount  the result is:  True\n",
      "\n",
      "This meant that at alpha =  0.05 , we failed to reject the Null Hypothesis\n",
      "Conclusion: \n",
      "We don't have evidence to prove that the there is a significant disparity  by gender in  TotalPatentCount  relative to the representation\n",
      "\n",
      "\n",
      "For  TotalArticleCount  the result is:  True\n",
      "\n",
      "This meant that at alpha =  0.05 , we failed to reject the Null Hypothesis\n",
      "Conclusion: \n",
      "We don't have evidence to prove that the there is a significant disparity  by gender in  TotalArticleCount  relative to the representation\n",
      "\n",
      "\n",
      "For  TotalConfProcCount  the result is:  True\n",
      "\n",
      "This meant that at alpha =  0.05 , we failed to reject the Null Hypothesis\n",
      "Conclusion: \n",
      "We don't have evidence to prove that the there is a significant disparity  by gender in  TotalConfProcCount  relative to the representation\n",
      "\n",
      "\n",
      "\n",
      "************************************************************************************************\n",
      "\n",
      "\n"
     ]
    }
   ],
   "source": [
    "all_dept_decoder(test_res_per_dept)"
   ]
  },
  {
   "cell_type": "markdown",
   "metadata": {},
   "source": [
    "#### quick view for results on department"
   ]
  },
  {
   "cell_type": "code",
   "execution_count": 57,
   "metadata": {},
   "outputs": [
    {
     "name": "stdout",
     "output_type": "stream",
     "text": [
      "Legend: Male = mean of male is significantly greater than mean of female\n",
      "        Female = mean of female is significantly greater than mean of male\n",
      "        Invalid = not enough data to perform test\n",
      "        No Disparity = no disparity found\n",
      "Department                                         Patent          Article         Conference Proceedings\n",
      "Aeronautics and Astronautics                       No Disparity    No Disparity    No Disparity   \n",
      "Electrical Engineering and Computer Sciences       No Disparity    No Disparity    No Disparity   \n",
      "Health Sciences and Technology                     No Disparity    No Disparity    No Disparity   \n",
      "Management                                         No Disparity    No Disparity    No Disparity   \n",
      "Mechanical Engineering                             No Disparity    No Disparity    No Disparity   \n",
      "Physics                                            No Disparity    No Disparity    No Disparity   \n",
      "Earth, Atmospheric and Planetary Sciences          No Disparity    No Disparity    No Disparity   \n",
      "Engineering System Divisions                       No Disparity    No Disparity    No Disparity   \n",
      "Media Arts and Sciences                            No Disparity    No Disparity    No Disparity   \n",
      "Anthropology                                       No Disparity    No Disparity    No Disparity   \n",
      "Foreign Languages and Literatures                  No Disparity    No Disparity    No Disparity   \n",
      "Architecture                                       No Disparity    Male            No Disparity   \n",
      "Civil and Environmental Engineering                No Disparity    No Disparity    No Disparity   \n",
      "Urban Studies and Planning                         No Disparity    No Disparity    No Disparity   \n",
      "Biological Engineering                             No Disparity    No Disparity    No Disparity   \n",
      "Biology                                            Male            Male            Male           \n",
      "Chemical Engineering                               No Disparity    No Disparity    No Disparity   \n",
      "Chemistry                                          Male            No Disparity    Male           \n",
      "Nuclear Science and Engineering                    No Disparity    No Disparity    No Disparity   \n",
      "Brain and Cognitive Sciences                       No Disparity    No Disparity    Male           \n",
      "Economics                                          No Disparity    No Disparity    No Disparity   \n",
      "Mathematics                                        Male            No Disparity    No Disparity   \n",
      "Comparative Media Studies/Writing Program          No Disparity    No Disparity    No Disparity   \n",
      "Political Science                                  No Disparity    No Disparity    No Disparity   \n",
      "Linguistics and Philosophy                         No Disparity    No Disparity    No Disparity   \n",
      "History                                            No Disparity    No Disparity    No Disparity   \n",
      "Literature                                         No Disparity    No Disparity    No Disparity   \n"
     ]
    }
   ],
   "source": [
    "def quick_dictionary(results):\n",
    "    \n",
    "    warning = results[2]\n",
    "    \n",
    "    if warning:\n",
    "        return [\"invalid\", \"invalid\", \"invalid\"]\n",
    "    else:\n",
    "        temp = []\n",
    "        for i in range(len(fields_of_interest)):\n",
    "            #function that returns False if H0 is rejected, otherwise True\n",
    "            res = results[0][i][0]\n",
    "            \n",
    "            if res:\n",
    "                #res = true, H0 fail to reject\n",
    "                temp.append(\"No Disparity\")\n",
    "                \n",
    "            else:\n",
    "                #res = false, H0 is rejected\n",
    "                \n",
    "                if(results[0][i][1] == 0):\n",
    "                \n",
    "                    temp.append(\"Female\")\n",
    "                elif(results[0][i][1] == 1):\n",
    "                    \n",
    "                    temp.append(\"Male\")\n",
    "\n",
    "        return temp \n",
    "            \n",
    "\n",
    "\n",
    "def all_dept_quickV(results):\n",
    "    results_table = {}\n",
    "    print(\"Legend: Male = mean of male is significantly greater than mean of female\")\n",
    "    print(\"        Female = mean of female is significantly greater than mean of male\")\n",
    "    print(\"        Invalid = not enough data to perform test\")\n",
    "    print(\"        No Disparity = no disparity found\")\n",
    "    for i in range(len(department_list)):\n",
    "        definition = quick_dictionary(results[i])\n",
    "        results_table.update({department_list[i]: definition})\n",
    "    print(\"{:<50} {:<15} {:<15} {:<15}\".format('Department', 'Patent', 'Article', 'Conference Proceedings'))\n",
    "    for k,v in results_table.items():\n",
    "        p, a, c = v\n",
    "        print(\"{:<50} {:<15} {:<15} {:<15}\".format(k, p, a, c))\n",
    "\n",
    "\n",
    "all_dept_quickV(test_res_per_dept)"
   ]
  },
  {
   "cell_type": "markdown",
   "metadata": {},
   "source": [
    "# Key Question 2\n",
    "\n",
    "## Has this disparity changed over time and, if so, in what way?"
   ]
  },
  {
   "cell_type": "code",
   "execution_count": 58,
   "metadata": {},
   "outputs": [
    {
     "name": "stdout",
     "output_type": "stream",
     "text": [
      "[[0.7766439909297053, 0.2233560090702948], [0.7767955801104972, 0.22320441988950276], [0.7778947368421053, 0.22210526315789475], [0.7796257796257796, 0.2203742203742204], [0.7785642062689585, 0.22143579373104147], [0.7729468599033816, 0.22705314009661837], [0.7791353383458647, 0.22086466165413535], [0.7708920187793428, 0.2291079812206573], [0.7747252747252747, 0.22527472527472528], [0.7688123300090662, 0.23118766999093382], [0.7686170212765957, 0.23138297872340424], [0.7690941385435168, 0.23090586145648312], [0.7661996497373029, 0.23380035026269702], [0.7682819383259912, 0.23171806167400882], [0.7729296527159395, 0.22707034728406056], [0.7684021543985637, 0.23159784560143626], [0.771505376344086, 0.22849462365591397]]\n"
     ]
    }
   ],
   "source": [
    "df_patents_nonan['Year'] = pd.to_datetime(df_patents_nonan['Filing_Date']).dt.year\n",
    "def match_gender(df):\n",
    "    genders = []\n",
    "\n",
    "    for author_id in df['Id'].astype(str).tolist():\n",
    "        gender = df_prof['Gender'][df_prof['Id'].astype(str) == author_id].tolist()[0]\n",
    "        \n",
    "        genders.append(gender)\n",
    "        \n",
    "\n",
    "    df['Gender'] = genders\n",
    "    return df\n",
    "\n",
    "#years = [2004, 2005, 2006, 2007, 2008, 2009, 2010, 2011, 2012, 2013, 2014, 2015, 2016, 2017, 2018, 2019, 2020, 2021]\n",
    "years = [2004, 2005, 2006, 2007, 2008, 2009, 2010, 2011, 2012, 2013, 2014, 2015, 2016, 2017, 2018, 2019, 2020]\n",
    "\n",
    "yearly_stats = []\n",
    "for year in years:\n",
    "    file_name = \"prof_year/\" + str(year) +\".csv\"\n",
    "    df = pd.read_csv(file_name)\n",
    "    df = match_gender(df)\n",
    "    \n",
    "    num_male = df[df['Gender'] == 'male'].shape[0]\n",
    "    num_female = df[df['Gender'] == 'female'].shape[0]\n",
    "    total_prof = num_male + num_female\n",
    "    male_percent = num_male / total_prof\n",
    "    female_percent = num_female / total_prof\n",
    "    yearly_stats.append([male_percent, female_percent])\n",
    "\n",
    "#for each year it is [% male, % female]\n",
    "print(yearly_stats)"
   ]
  },
  {
   "cell_type": "code",
   "execution_count": 59,
   "metadata": {},
   "outputs": [],
   "source": [
    "import numpy as np\n",
    "import matplotlib.pyplot as plt\n",
    "from scipy import stats\n",
    "\n",
    "def percent_by_year(dataframe):\n",
    "    yearly_percent = []\n",
    "\n",
    "    for year in years:\n",
    "        df = dataframe[dataframe['Year'] == year]\n",
    "        num_male = df[df['Gender'] == 'male'].shape[0]\n",
    "        num_female = df[df['Gender'] == 'female'].shape[0]\n",
    "        male_p = num_male / (num_male + num_female)\n",
    "        female_p = num_female / (num_male + num_female)\n",
    "        yearly_percent.append([male_p, female_p])\n",
    "    \n",
    "    return yearly_percent\n",
    "\n",
    "def lingress_and_test(Dindex, gender0):\n",
    "    \n",
    "    years_by_2004 = [(x - 2004) for x in years]\n",
    "\n",
    "    res = stats.linregress(years_by_2004, Dindex)\n",
    "    \n",
    "    label_text = 'Fitted line for ' + gender0\n",
    "    title_text = \"Disparity Index for \" + gender0 + \" over time\"\n",
    "\n",
    "    x = np.array(years_by_2004)\n",
    "\n",
    "    plt.plot(years_by_2004, Dindex, 'o')\n",
    "    plt.plot(x, res.intercept + res.slope*x, 'r', label = label_text)\n",
    "    plt.xlabel(\"Number of years since 2004\")\n",
    "    plt.ylabel(\"Disparity Index\")\n",
    "    plt.title(title_text)\n",
    "    plt.show()\n",
    "\n",
    "    slope = res.slope\n",
    "    pvalue = res.pvalue\n",
    "\n",
    "    print(\"The slope for this linear regression is \", slope)\n",
    "    print(\"The p-value for the slope is \", pvalue)\n",
    "    print(\"Testing on Null Hypothesis: slope = 0 VS Alternative Hypothesis: slope != 0\")\n",
    "    if(pvalue < 0.05):\n",
    "        print(\"The pvalue is less than alpha = 0.05, we reject the null hypothesis.\")\n",
    "        if(slope > 0):\n",
    "            print(\"The slope value is statistically significant. We see an increase in the disparity index over time.\")\n",
    "        else:\n",
    "            print(\"The slope value is statistically significant. We see a decrease in the disparity index over time.\")\n",
    "\n",
    "    else:\n",
    "        print(\"The pvalue is greater than alpha = 0.05, we fail to reject the null hypothesis.\")\n",
    "        print(\"There isn't enough evidence to disprove the null hypothesis\")\n",
    "\n",
    "def disparity_calc_and_plot(percentages, field_name):\n",
    "    X = years\n",
    "    male = []\n",
    "    female = []\n",
    "\n",
    "    for i in range(len(X)):\n",
    "        male_di = percentages[i][0] / yearly_stats[i][0]\n",
    "        female_di = percentages[i][1] / yearly_stats[i][1]\n",
    "        \n",
    "        male.append(male_di)\n",
    "        female.append(female_di)\n",
    "\n",
    "    f = plt.figure()\n",
    "    f.set_figwidth(20)\n",
    "    f.set_figheight(9)\n",
    "\n",
    "    X_axis = np.arange(len(X))\n",
    "  \n",
    "    plt.bar(X_axis - 0.2, male, 0.4, label = 'Male')\n",
    "    plt.bar(X_axis + 0.2, female, 0.4, label = 'Female')\n",
    "\n",
    "    title = \"Disparity Index of Male and Female in \" + field_name + \" from 2004 - 2020\"\n",
    "\n",
    "    plt.xticks(X_axis, X, rotation = 90)\n",
    "    plt.xlabel(\"Year\")\n",
    "    plt.ylabel(\"Disparity Index\")\n",
    "    plt.title(title)\n",
    "    plt.legend()\n",
    "\n",
    "    plt.show()\n",
    "\n",
    "    lingress_and_test(male, \"male\")\n",
    "\n",
    "    lingress_and_test(female, \"female\")\n",
    "    \n",
    "\n",
    "\n",
    "    return male, female"
   ]
  },
  {
   "cell_type": "code",
   "execution_count": 60,
   "metadata": {},
   "outputs": [
    {
     "data": {
      "image/png": "[encoded data removed]",
      "text/plain": [
       "<Figure size 1440x648 with 1 Axes>"
      ]
     },
     "metadata": {
      "needs_background": "light"
     },
     "output_type": "display_data"
    },
    {
     "data": {
      "image/png": "[encoded data removed]",
      "text/plain": [
       "<Figure size 432x288 with 1 Axes>"
      ]
     },
     "metadata": {
      "needs_background": "light"
     },
     "output_type": "display_data"
    },
    {
     "name": "stdout",
     "output_type": "stream",
     "text": [
      "The slope for this linear regression is  -0.0043846357028153905\n",
      "The p-value for the slope is  0.04831457831254603\n",
      "Testing on Null Hypothesis: slope = 0 VS Alternative Hypothesis: slope != 0\n",
      "The pvalue is less than alpha = 0.05, we reject the null hypothesis.\n",
      "The slope value is statistically significant. We see a decrease in the disparity index over time.\n"
     ]
    },
    {
     "data": {
      "image/png": "[encoded data removed]",
      "text/plain": [
       "<Figure size 432x288 with 1 Axes>"
      ]
     },
     "metadata": {
      "needs_background": "light"
     },
     "output_type": "display_data"
    },
    {
     "name": "stdout",
     "output_type": "stream",
     "text": [
      "The slope for this linear regression is  0.015762439213224743\n",
      "The p-value for the slope is  0.03806904746307863\n",
      "Testing on Null Hypothesis: slope = 0 VS Alternative Hypothesis: slope != 0\n",
      "The pvalue is less than alpha = 0.05, we reject the null hypothesis.\n",
      "The slope value is statistically significant. We see an increase in the disparity index over time.\n"
     ]
    }
   ],
   "source": [
    "patent_yearly_percent = percent_by_year(df_patents_nonan)\n",
    "#print(patent_yearly_percent)\n",
    "a, b = disparity_calc_and_plot(patent_yearly_percent, \"Patents\")"
   ]
  },
  {
   "cell_type": "markdown",
   "metadata": {},
   "source": [
    "The disparity index is calculated using the following formula D = P_i / P_j. Where P_i is the percent of patents for male/female for a given year and P_j is the percent of male/female working professors in MIT for a given year (data scraped from MIT collaboration website). Based on the plot above, we can see that the Disparity Index for male remained generally constant, distributed around 1.0. The Disparity Index for female patent inventors shows a gradual increase, from around 0.6 to around 0.8 in the recent years. This observation is also supported by the linear regression on the disparity indexes. For male we reject the null hypothesis which means that with 95% confidence the slope is significant, however the value of the slope is very small, suggesting a very slow decrease. For female we rejected the null hypothsis which means that with 95% confidence we conclude that the slope is not 0, in this case positive, which means it is increasing over time."
   ]
  },
  {
   "cell_type": "code",
   "execution_count": 61,
   "metadata": {},
   "outputs": [
    {
     "data": {
      "image/png": "[encoded data removed]",
      "text/plain": [
       "<Figure size 1440x648 with 1 Axes>"
      ]
     },
     "metadata": {
      "needs_background": "light"
     },
     "output_type": "display_data"
    },
    {
     "data": {
      "image/png": "[encoded data removed]",
      "text/plain": [
       "<Figure size 432x288 with 1 Axes>"
      ]
     },
     "metadata": {
      "needs_background": "light"
     },
     "output_type": "display_data"
    },
    {
     "name": "stdout",
     "output_type": "stream",
     "text": [
      "The slope for this linear regression is  -0.0028916755685639973\n",
      "The p-value for the slope is  5.43548687350441e-06\n",
      "Testing on Null Hypothesis: slope = 0 VS Alternative Hypothesis: slope != 0\n",
      "The pvalue is less than alpha = 0.05, we reject the null hypothesis.\n",
      "The slope value is statistically significant. We see a decrease in the disparity index over time.\n"
     ]
    },
    {
     "data": {
      "image/png": "[encoded data removed]",
      "text/plain": [
       "<Figure size 432x288 with 1 Axes>"
      ]
     },
     "metadata": {
      "needs_background": "light"
     },
     "output_type": "display_data"
    },
    {
     "name": "stdout",
     "output_type": "stream",
     "text": [
      "The slope for this linear regression is  0.010170130022332129\n",
      "The p-value for the slope is  3.4622207540450577e-06\n",
      "Testing on Null Hypothesis: slope = 0 VS Alternative Hypothesis: slope != 0\n",
      "The pvalue is less than alpha = 0.05, we reject the null hypothesis.\n",
      "The slope value is statistically significant. We see an increase in the disparity index over time.\n"
     ]
    }
   ],
   "source": [
    "article_yearly_percent = percent_by_year(df_articles)\n",
    "#print(article_yearly_percent)\n",
    "c, d = disparity_calc_and_plot(article_yearly_percent, \"Article\")"
   ]
  },
  {
   "cell_type": "markdown",
   "metadata": {},
   "source": [
    "The disparity index is calculated using the following formula D = P_i / P_j. Where P_i is the percent of article for male/female for a given year and P_j is the percent of male/female working professors in MIT for a given year (data scraped from MIT collaboration website). Based on the plot above, we can see that the Disparity Index for male professors remained generally constant. The Disparity Index for female professors also stayed relatively constant, perhaps a very small increase over the years. This observation is partly supported by the linear regression on the disparity indexes. For male we reject the null hypothesis which means that with 95% confidence the slope is significant, however the value of the slope is relatively small, suggesting a very slow decrease. For female we rejected the null hypothsis which means that with 95% confidence we conclude that the slope is not 0, in this case positive, which means it is increasing over time."
   ]
  },
  {
   "cell_type": "code",
   "execution_count": 62,
   "metadata": {},
   "outputs": [
    {
     "data": {
      "image/png": "[encoded data removed]",
      "text/plain": [
       "<Figure size 1440x648 with 1 Axes>"
      ]
     },
     "metadata": {
      "needs_background": "light"
     },
     "output_type": "display_data"
    },
    {
     "data": {
      "image/png": "[encoded data removed]",
      "text/plain": [
       "<Figure size 432x288 with 1 Axes>"
      ]
     },
     "metadata": {
      "needs_background": "light"
     },
     "output_type": "display_data"
    },
    {
     "name": "stdout",
     "output_type": "stream",
     "text": [
      "The slope for this linear regression is  0.0008958261851047425\n",
      "The p-value for the slope is  0.30360573929582535\n",
      "Testing on Null Hypothesis: slope = 0 VS Alternative Hypothesis: slope != 0\n",
      "The pvalue is greater than alpha = 0.05, we fail to reject the null hypothesis.\n",
      "There isn't enough evidence to disprove the null hypothesis\n"
     ]
    },
    {
     "data": {
      "image/png": "[encoded data removed]",
      "text/plain": [
       "<Figure size 432x288 with 1 Axes>"
      ]
     },
     "metadata": {
      "needs_background": "light"
     },
     "output_type": "display_data"
    },
    {
     "name": "stdout",
     "output_type": "stream",
     "text": [
      "The slope for this linear regression is  -0.003154003038510479\n",
      "The p-value for the slope is  0.28889420261801646\n",
      "Testing on Null Hypothesis: slope = 0 VS Alternative Hypothesis: slope != 0\n",
      "The pvalue is greater than alpha = 0.05, we fail to reject the null hypothesis.\n",
      "There isn't enough evidence to disprove the null hypothesis\n"
     ]
    }
   ],
   "source": [
    "proceedings_yearly_percent = percent_by_year(df_proceedings)\n",
    "#print(proceedings_yearly_percent)\n",
    "e, f = disparity_calc_and_plot(proceedings_yearly_percent, \"Proceedings\")"
   ]
  },
  {
   "cell_type": "markdown",
   "metadata": {},
   "source": [
    "The disparity index is calculated using the following formula D = P_i / P_j. Where P_i is the percent of proceedings for male/female for a given year and P_j is the percent of male/female working professors in MIT for a given year (data scraped from MIT collaboration website). Based on the plot above, we can see that the Disparity Index for male remained generally constant. The Disparity Index for female professors also remained relatively constant. The two disparity indices converged on to 1.0 in the recent years, sugggesting we have reached parity. These observations are supported by the linear regression tests on male and female disparity indexes. Where both slopes has failed the hypothesis test, suggesting that we don't have enough evidence to prove that the slope is not 0 at confidence level of 95%."
   ]
  },
  {
   "cell_type": "markdown",
   "metadata": {},
   "source": [
    "# Key Question 3:\n",
    "\n",
    "## Are newer professors (professors who have been at MIT less than ten years) experiencing similar gaps to older professors?"
   ]
  },
  {
   "cell_type": "code",
   "execution_count": 63,
   "metadata": {},
   "outputs": [],
   "source": [
    "fields_of_interest = ['TotalPatentCount', 'TotalArticleCount', 'TotalConfProcCount']\n",
    "import scipy.stats as stats\n",
    "\n",
    "# testing at Confidence level 95%\n",
    "alpha = 0.05\n",
    "\n"
   ]
  },
  {
   "cell_type": "code",
   "execution_count": 73,
   "metadata": {},
   "outputs": [],
   "source": [
    "#function that returns False if H0 is rejected, otherwise True\n",
    "\n",
    "def t_test_on_field(df, progress = False):\n",
    "    all_field_result = []\n",
    "\n",
    "    for field in fields_of_interest:\n",
    "        if(progress):\n",
    "            print(\"Current field of interest is: \", field)\n",
    "    \n",
    "        \n",
    "        group_male = df[field][df['Gender'] == 'male']\n",
    "        group_female = df[field][df['Gender'] == 'female']\n",
    "        \n",
    "        #print(group_male.shape[0])\n",
    "        #print(group_female.shape[0])\n",
    "        \n",
    "        mnob = 0\n",
    "        mmean = 0\n",
    "        mvar = 0\n",
    "        fnob = 0\n",
    "        fmean = 0\n",
    "        fvar = 0\n",
    "        \n",
    "        if (group_male.shape[0] > 0):\n",
    "            mnob, _ , mmean, mvar, _, _ = stats.describe(group_male)\n",
    "        \n",
    "        if (group_female.shape[0] > 0):\n",
    "            fnob, _ , fmean, fvar, _, _ = stats.describe(group_female)\n",
    "    \n",
    "        \n",
    "        mstd = mvar ** 0.5\n",
    "        fstd = fvar ** 0.5\n",
    "        \n",
    "        # a flag bit, 1 if male mean is higher and 0 if vice versa\n",
    "        higher_bit = 0\n",
    "        if mmean > fmean:\n",
    "            higher_bit = 1\n",
    "    \n",
    "        _, pv = stats.levene(group_male,\n",
    "                 group_female,\n",
    "                 center= 'mean')\n",
    "        \n",
    "        if pv >= alpha:\n",
    "            # insignificant pv, identical variation\n",
    "            # t-test on H0: mean of male = mean of female\n",
    "            stat, p_value = stats.ttest_ind_from_stats( mean1= mmean, std1= mstd, nobs1= mnob,\n",
    "\n",
    "                                        mean2= fmean, std2= fstd, nobs2= fnob)\n",
    "            if p_value < alpha:\n",
    "                # t-test result reject H0, significantly different\n",
    "                all_field_result.append((False, higher_bit))\n",
    "                if(progress):\n",
    "                    print(\"Test result: False\")\n",
    "            else:\n",
    "                all_field_result.append((True, -1))\n",
    "                if(progress):\n",
    "                    print(\"Test result: True\")\n",
    "        else:\n",
    "            # significant pv, un-identical variation\n",
    "            # t-test on H0: mean of male = mean of female\n",
    "            stat, p_value = stats.ttest_ind_from_stats( mean1= mmean, std1= mstd, nobs1= mnob,\n",
    "\n",
    "                                        mean2= fmean, std2= fstd, nobs2= fnob, equal_var = False)\n",
    "            \n",
    "            if p_value < alpha:\n",
    "                # t-test result reject H0, significantly different\n",
    "                all_field_result.append((False, higher_bit))\n",
    "                if(progress):\n",
    "                    print(\"Test result: False\")\n",
    "            else:\n",
    "                all_field_result.append((True, -1))\n",
    "                if(progress):\n",
    "                    print(\"Test result: True\")\n",
    "    \n",
    "    total_points = df.shape[0]\n",
    "    warning = False\n",
    "    male_count = df[df['Gender'] == 'male'].shape[0]\n",
    "    female_count = df[df['Gender'] == 'female'].shape[0]\n",
    "    if (male_count == 0 or female_count == 0):\n",
    "        warning = True\n",
    "    \n",
    "    \n",
    "    return (all_field_result, total_points, warning)"
   ]
  },
  {
   "cell_type": "code",
   "execution_count": 74,
   "metadata": {},
   "outputs": [
    {
     "name": "stdout",
     "output_type": "stream",
     "text": [
      "([(True, -1), (True, -1), (True, -1)], 1400, False)\n",
      "([(True, -1), (True, -1), (True, -1)], 1282, False)\n",
      "([(True, -1), (True, -1), (True, -1)], 118, False)\n"
     ]
    }
   ],
   "source": [
    "test_res_overall = t_test_on_field(df_prof2)\n",
    "print(test_res_overall)\n",
    "\n",
    "\n",
    "\n",
    "test_res_overall_old = t_test_on_field(df_old_prof)\n",
    "print(test_res_overall_old)\n",
    "\n",
    "test_res_overall_new = t_test_on_field(df_new_prof)\n",
    "print(test_res_overall_new)\n",
    "\n",
    "\n"
   ]
  },
  {
   "cell_type": "code",
   "execution_count": 75,
   "metadata": {},
   "outputs": [
    {
     "name": "stdout",
     "output_type": "stream",
     "text": [
      "Summary\n",
      "\n",
      "For Total Patent Count\n",
      "Overall:  True  Older:  True  New:  True\n",
      "For Total Article Count\n",
      "Overall:  True  Older:  True  New:  True\n",
      "For Total Conference Proceedings Count\n",
      "Overall:  True  Older:  True  New:  True\n",
      "\n",
      "Legend: True := H0 not rejected, no evidence for disparity, False := H0 rejected, significant disparity\n"
     ]
    }
   ],
   "source": [
    "print(\"Summary\")\n",
    "print()\n",
    "print(\"For Total Patent Count\")\n",
    "print(\"Overall: \", test_res_overall[0][0][0], \" Older: \", test_res_overall_old[0][0][0], \" New: \", test_res_overall_new[0][0][0])\n",
    "print(\"For Total Article Count\")\n",
    "print(\"Overall: \", test_res_overall[0][1][0], \" Older: \", test_res_overall_old[0][1][0], \" New: \", test_res_overall_new[0][1][0])\n",
    "print(\"For Total Conference Proceedings Count\")\n",
    "print(\"Overall: \", test_res_overall[0][2][0], \" Older: \", test_res_overall_old[0][2][0], \" New: \", test_res_overall_new[0][2][0])\n",
    "print()\n",
    "print(\"Legend: True := H0 not rejected, no evidence for disparity, False := H0 rejected, significant disparity\")"
   ]
  },
  {
   "cell_type": "markdown",
   "metadata": {},
   "source": [
    "## Interpretation of the results\n",
    "### Comparing disparity between male and female professors who joined MIT before 2011 and after 2011\n",
    "\n",
    "#### Patent Count:\n",
    "The test showed that there was no disparity between male and female professors overall, between older professors and newer professors.\n",
    "\n",
    "#### Article Count:\n",
    "The test showed that there was no disparity between male and female professors overall, between older professors and newer professors.\n",
    "\n",
    "#### Conference Proceedings Count:\n",
    "The test showed that there was no disparity between male and female professors overall, between older professors and newer professors.\n"
   ]
  },
  {
   "cell_type": "code",
   "execution_count": 76,
   "metadata": {},
   "outputs": [
    {
     "data": {
      "image/png": "[encoded data removed]",
      "text/plain": [
       "<Figure size 1440x648 with 1 Axes>"
      ]
     },
     "metadata": {
      "needs_background": "light"
     },
     "output_type": "display_data"
    }
   ],
   "source": [
    "import numpy as np\n",
    "import matplotlib.pyplot as plt\n",
    "\n",
    "X = df_new_prof['Department'].unique()\n",
    "#print(X)\n",
    "\n",
    "male = []\n",
    "female = []\n",
    "\n",
    "for dept in X:\n",
    "    df = df_new_prof[df_new_prof['Department'] == dept]\n",
    "    \n",
    "    group_male = df[df['Gender'] == 'male']\n",
    "    group_female = df[df['Gender'] == 'female']\n",
    "    male.append(group_male.shape[0])\n",
    "    female.append(group_female.shape[0])\n",
    "\n",
    "  \n",
    "\n",
    "f = plt.figure()\n",
    "f.set_figwidth(20)\n",
    "f.set_figheight(9)\n",
    "\n",
    "X_axis = np.arange(len(X))\n",
    "  \n",
    "plt.bar(X_axis - 0.2, male, 0.4, label = 'Male')\n",
    "plt.bar(X_axis + 0.2, female, 0.4, label = 'Female')\n",
    "\n",
    "\n",
    "plt.xticks(X_axis, X, rotation = 90)\n",
    "plt.xlabel(\"Departments\")\n",
    "plt.ylabel(\"Number of Professors\")\n",
    "plt.title(\"Number of Professors in each Department who joined MIT after 2011\")\n",
    "plt.legend()\n",
    "\n",
    "plt.show()"
   ]
  },
  {
   "cell_type": "markdown",
   "metadata": {},
   "source": [
    "This graph shows the number of professors in each Department who joined MIT after 2011. Most departments received less than 5 new members regardless of gender, the only outlier is for the department Management with 18 male and 8 female faculty members who joined after 2011. However the dataset is still too small to support a meaningful test for each department. Therefore there will only be tests on the entire MIT.\n",
    "\n",
    "#### A new approach\n",
    "Due to the limited size of the dataset for professors who joined after 2011 (118 faculty memebers in total), we attempted to partition the dataset in another way. Where df_prof_short holds faculty members who worked for less than or equal to 10 years in MIT, and df_prof_long holds faculty members who worked in MIT for more than 10 years."
   ]
  },
  {
   "cell_type": "code",
   "execution_count": 77,
   "metadata": {},
   "outputs": [
    {
     "name": "stdout",
     "output_type": "stream",
     "text": [
      "(1400, 20)\n",
      "(200, 20)\n",
      "(1200, 20)\n"
     ]
    }
   ],
   "source": [
    "df_prof_short = df_prof2[df_prof2['Work_year'] <= 10]\n",
    "df_prof_long = df_prof2[df_prof2['Work_year'] > 10]\n",
    "\n",
    "print(df_prof2.shape)\n",
    "print(df_prof_short.shape)\n",
    "print(df_prof_long.shape)"
   ]
  },
  {
   "cell_type": "code",
   "execution_count": 78,
   "metadata": {},
   "outputs": [
    {
     "name": "stdout",
     "output_type": "stream",
     "text": [
      "([(True, -1), (True, -1), (True, -1)], 1400, False)\n",
      "([(True, -1), (True, -1), (True, -1)], 200, False)\n",
      "([(True, -1), (True, -1), (True, -1)], 1200, False)\n"
     ]
    }
   ],
   "source": [
    "test_res_overall = t_test_on_field(df_prof2)\n",
    "print(test_res_overall)\n",
    "\n",
    "\n",
    "\n",
    "test_res_short = t_test_on_field(df_prof_short)\n",
    "print(test_res_short)\n",
    "\n",
    "test_res_long = t_test_on_field(df_prof_long)\n",
    "print(test_res_long)"
   ]
  },
  {
   "cell_type": "code",
   "execution_count": 79,
   "metadata": {},
   "outputs": [
    {
     "name": "stdout",
     "output_type": "stream",
     "text": [
      "\n",
      "\n",
      "Summary\n",
      "\n",
      "For Total Patent Count\n",
      "Overall:  True  Older:  True  New:  True\n",
      "For Total Article Count\n",
      "Overall:  True  Older:  True  New:  True\n",
      "For Total Conference Proceedings Count\n",
      "Overall:  True  Older:  True  New:  True\n",
      "\n",
      "Legend: True := H0 not rejected, no evidence for disparity, False := H0 rejected, significant disparity\n"
     ]
    }
   ],
   "source": [
    "print()\n",
    "print()\n",
    "print(\"Summary\")\n",
    "print()\n",
    "print(\"For Total Patent Count\")\n",
    "print(\"Overall: \", test_res_overall[0][0][0], \" Older: \", test_res_long[0][0][0], \" New: \", test_res_short[0][0][0])\n",
    "print(\"For Total Article Count\")\n",
    "print(\"Overall: \", test_res_overall[0][1][0], \" Older: \", test_res_long[0][1][0], \" New: \", test_res_short[0][1][0])\n",
    "print(\"For Total Conference Proceedings Count\")\n",
    "print(\"Overall: \", test_res_overall[0][2][0], \" Older: \", test_res_long[0][2][0], \" New: \", test_res_short[0][2][0])\n",
    "print()\n",
    "print(\"Legend: True := H0 not rejected, no evidence for disparity, False := H0 rejected, significant disparity\")"
   ]
  },
  {
   "cell_type": "markdown",
   "metadata": {},
   "source": [
    "## Interpretation of the results\n",
    "### Comparing disparity between male and female professors who has worked in MIT for less than or equal to 10 years vs more than 10 years\n",
    "\n",
    "#### Patent Count:\n",
    "The test showed that there was no disparity between male and female professors overall, between older professors and newer professors.\n",
    "\n",
    "#### Article Count:\n",
    "The test showed that there was no disparity between male and female professors overall, between older professors and newer professors.\n",
    "\n",
    "#### Conference Proceedings Count:\n",
    "The test showed that there was no disparity between male and female professors overall, between older professors and newer professors."
   ]
  },
  {
   "cell_type": "code",
   "execution_count": 80,
   "metadata": {},
   "outputs": [
    {
     "data": {
      "image/png": "[encoded data removed]",
      "text/plain": [
       "<Figure size 1440x648 with 1 Axes>"
      ]
     },
     "metadata": {
      "needs_background": "light"
     },
     "output_type": "display_data"
    }
   ],
   "source": [
    "X = df_prof_short['Department'].unique()\n",
    "#print(X)\n",
    "\n",
    "male = []\n",
    "female = []\n",
    "\n",
    "for dept in X:\n",
    "    df = df_prof_short[df_prof_short['Department'] == dept]\n",
    "    \n",
    "    group_male = df[df['Gender'] == 'male']\n",
    "    group_female = df[df['Gender'] == 'female']\n",
    "    male.append(group_male.shape[0])\n",
    "    female.append(group_female.shape[0])\n",
    "\n",
    "  \n",
    "\n",
    "f = plt.figure()\n",
    "f.set_figwidth(20)\n",
    "f.set_figheight(9)\n",
    "\n",
    "X_axis = np.arange(len(X))\n",
    "  \n",
    "plt.bar(X_axis - 0.2, male, 0.4, label = 'Male')\n",
    "plt.bar(X_axis + 0.2, female, 0.4, label = 'Female')\n",
    "\n",
    "\n",
    "plt.xticks(X_axis, X, rotation = 90)\n",
    "plt.xlabel(\"Departments\")\n",
    "plt.ylabel(\"Number of Professors\")\n",
    "plt.title(\"Number of Professors in each Department who worked less than 10 years in MIT\")\n",
    "plt.legend()\n",
    "\n",
    "plt.show()\n",
    "\n",
    "\n"
   ]
  },
  {
   "cell_type": "markdown",
   "metadata": {},
   "source": [
    "This graph shows the number of professors in each Department who worked in MIT for less than or equal to 10 years. Although the situation has improved compared to the previous plot, the number of professors in each department still isn't enough to support individual tests on each department."
   ]
  },
  {
   "cell_type": "markdown",
   "metadata": {},
   "source": [
    "#### Test for disparity based on faculty ranking"
   ]
  },
  {
   "cell_type": "code",
   "execution_count": 81,
   "metadata": {},
   "outputs": [],
   "source": [
    "# reminder the available rankings are: ['Professor' 'Associate' 'Other' 'Assistant' 'Lecturer']\n",
    "#df_professor with 688 samples\n",
    "#df_associate with 235 samples\n",
    "#df_other with 246 samples\n",
    "#df_assistant with 187 samples\n",
    "#df_lecturer with 1 sample\n",
    "\n",
    "def concatenate_datasets(frame):\n",
    "    #this function is useful when we want to group datasets together, for example we want to treat associate professors + assistant professors + others as newer professors, we\n",
    "    #can use this function to do it\n",
    "    # the expected input is a list of datasets, namely a subset of the 5 datasets mentioned above. \n",
    "    # an example of calling this function would be df_new = concatenate_datasets([df_associate, df_other, df_assistant, df_lecturer])\n",
    "    result = pd.concat(frame)\n",
    "    return result\n",
    "\n",
    "def test_rank1_vs_rank2(r1, r2):\n",
    "    # this function expects two datasets to be passed in. Since the point of this function is to allow customizing testing, it will only spit out the results of the test without interpreting it\n",
    "    test_res_overall = t_test_on_field(dataset3)\n",
    "    print(test_res_overall)\n",
    "\n",
    "    test_res_rank1 = t_test_on_field(r1)\n",
    "    print(test_res_rank1)\n",
    "\n",
    "    test_res_rank2 = t_test_on_field(r2)\n",
    "    print(test_res_rank2)\n",
    "\n",
    "    print()\n",
    "    print()\n",
    "    print(\"Summary\")\n",
    "    print()\n",
    "    print(\"For Total Patent Count\")\n",
    "    print(\"Overall: \", test_res_overall[0][0][0], \" Rank1: \", test_res_rank1[0][0][0], \" Rank2: \", test_res_rank2[0][0][0])\n",
    "    print(\"For Total Article Count\")\n",
    "    print(\"Overall: \", test_res_overall[0][1][0], \" Rank1: \", test_res_rank1[0][1][0], \" Rank2: \", test_res_rank2[0][1][0])\n",
    "    print(\"For Total Conference Proceedings Count\")\n",
    "    print(\"Overall: \", test_res_overall[0][2][0], \" Rank1: \", test_res_rank1[0][2][0], \" Rank2: \", test_res_rank2[0][2][0])\n",
    "    print()\n",
    "    print(\"Legend: True := H0 not rejected, no evidence for disparity, False := H0 rejected, significant disparity\")\n",
    "\n"
   ]
  },
  {
   "cell_type": "code",
   "execution_count": 82,
   "metadata": {},
   "outputs": [
    {
     "name": "stdout",
     "output_type": "stream",
     "text": [
      "([(True, -1), (True, -1), (True, -1)], 1357, False)\n",
      "([(True, -1), (True, -1), (True, -1)], 688, False)\n",
      "([(True, -1), (True, -1), (True, -1)], 669, False)\n",
      "\n",
      "\n",
      "Summary\n",
      "\n",
      "For Total Patent Count\n",
      "Overall:  True  Rank1:  True  Rank2:  True\n",
      "For Total Article Count\n",
      "Overall:  True  Rank1:  True  Rank2:  True\n",
      "For Total Conference Proceedings Count\n",
      "Overall:  True  Rank1:  True  Rank2:  True\n",
      "\n",
      "Legend: True := H0 not rejected, no evidence for disparity, False := H0 rejected, significant disparity\n"
     ]
    }
   ],
   "source": [
    "newer = concatenate_datasets([df_assistant, df_associate, df_other, df_lecturer])\n",
    "#essentialy we are testing rank = professor vs rank = everything else\n",
    "test_rank1_vs_rank2(df_professor, newer)"
   ]
  },
  {
   "cell_type": "markdown",
   "metadata": {},
   "source": [
    "## Interpretation of the results\n",
    "### Comparing disparity between male and female faculty members who has a ranking of \"Professor\" vs all other rankings\n",
    "\n",
    "#### Patent Count:\n",
    "The test showed that there was no disparity between male and female faculty members overall, between professors and other faculty members.\n",
    "\n",
    "#### Article Count:\n",
    "The test showed that there was no disparity between male and female faculty members overall, between professors and other faculty members.\n",
    "\n",
    "#### Conference Proceedings Count:\n",
    "The test showed that there was no disparity between male and female faculty members overall, between professors and other faculty members."
   ]
  },
  {
   "cell_type": "markdown",
   "metadata": {},
   "source": []
  }
 ],
 "metadata": {
  "interpreter": {
   "hash": "183bbf6827d058c2a2fb0f4acdc0420849dda2b4380af0e437e38c64d798d8b7"
  },
  "kernelspec": {
   "display_name": "Python 3.8.8 64-bit ('base': conda)",
   "language": "python",
   "name": "python3"
  },
  "language_info": {
   "codemirror_mode": {
    "name": "ipython",
    "version": 3
   },
   "file_extension": ".py",
   "mimetype": "text/x-python",
   "name": "python",
   "nbconvert_exporter": "python",
   "pygments_lexer": "ipython3",
   "version": "3.8.8"
  },
  "orig_nbformat": 4
 },
 "nbformat": 4,
 "nbformat_minor": 2
}
